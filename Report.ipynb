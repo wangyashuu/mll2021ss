{
 "cells": [
  {
   "cell_type": "code",
   "execution_count": 8,
   "metadata": {},
   "outputs": [],
   "source": [
    "import numpy as np\n",
    "import pandas as pd"
   ]
  },
  {
   "cell_type": "code",
   "execution_count": 9,
   "metadata": {},
   "outputs": [],
   "source": [
    "import os\n",
    "import sys\n",
    "nb_dir = os.path.split(os.getcwd())[0]\n",
    "if nb_dir not in sys.path:\n",
    "    sys.path.append(nb_dir)\n",
    "\n",
    "data_path = 'report_data'"
   ]
  },
  {
   "cell_type": "markdown",
   "metadata": {},
   "source": [
    "# 00. Evaluation"
   ]
  },
  {
   "cell_type": "markdown",
   "metadata": {},
   "source": [
    "## Classification"
   ]
  },
  {
   "cell_type": "markdown",
   "metadata": {},
   "source": [
    "### Confusion Matrix ([wiki](https://en.wikipedia.org/wiki/Confusion_matrix))"
   ]
  },
  {
   "cell_type": "markdown",
   "metadata": {},
   "source": [
    "- True Positive: You predicted positive and it’s true.\n",
    "- True Negative: You predicted negative and it’s true.\n",
    "- False Positive: You predicted positive and it’s false.\n",
    "- False Negative: You predicted negative and it’s false."
   ]
  },
  {
   "cell_type": "markdown",
   "metadata": {},
   "source": [
    "## Regression"
   ]
  },
  {
   "cell_type": "markdown",
   "metadata": {},
   "source": [
    "## Data Sampling"
   ]
  },
  {
   "cell_type": "markdown",
   "metadata": {},
   "source": [
    "# 01. Naive Bayes"
   ]
  },
  {
   "cell_type": "markdown",
   "metadata": {},
   "source": [
    "## Basic"
   ]
  },
  {
   "cell_type": "markdown",
   "metadata": {},
   "source": [
    "$$ P(C | w) = \\frac {P(w | C) \\cdot P(C)} {P(w)} $$"
   ]
  },
  {
   "cell_type": "markdown",
   "metadata": {},
   "source": [
    "## Prepare Data"
   ]
  },
  {
   "cell_type": "code",
   "execution_count": 3,
   "metadata": {},
   "outputs": [
    {
     "name": "stdout",
     "output_type": "stream",
     "text": [
      "mkdir: mkdir: report_data: File exists\n",
      "report_data/newsgroups: File exists\n",
      "** Resuming transfer from byte position 14464277\n",
      "  % Total    % Received % Xferd  Average Speed   Time    Time     Time  Current\n",
      "                                 Dload  Upload   Total   Spent    Left  Speed\n",
      "100   389    0   389    0     0   1182      0 --:--:-- --:--:-- --:--:--  1178\n"
     ]
    }
   ],
   "source": [
    "\n",
    "# shell scripts for downloading the data and placing it in a corresponding directory\n",
    "!mkdir report_data & mkdir report_data/newsgroups\n",
    "!curl -o report_data/newsgroups/news.tar.gz \"http://qwone.com/~jason/20Newsgroups/20news-bydate.tar.gz\" -C -\n",
    "# extract the files\n",
    "!gzip -d < report_data/newsgroups/news.tar.gz | tar xf - --directory report_data/newsgroups\n",
    "# !ls ./newsgroups/*"
   ]
  },
  {
   "cell_type": "code",
   "execution_count": 4,
   "metadata": {},
   "outputs": [],
   "source": [
    "import os\n",
    "\n",
    "# Reference the paths to our dataset\n",
    "base_path_newsgroups = \"report_data/newsgroups/\"\n",
    "path_newsgroups_train = os.path.join(base_path_newsgroups, \"20news-bydate-train\")\n",
    "path_newsgroups_test = os.path.join(base_path_newsgroups, \"20news-bydate-test\")"
   ]
  },
  {
   "cell_type": "code",
   "execution_count": 5,
   "metadata": {},
   "outputs": [],
   "source": [
    "from mll2021ss.helpers.file import read_file, read_files\n",
    "from mll2021ss.helpers.vectorizer import vectorize_by_grouping, vectorize_texts, vectorize_text_by_vocabulary, vectorize_texts_by_vocabulary\n",
    "from mll2021ss.helpers.text import tokenize\n",
    "from mll2021ss.helpers.features import extract_raw_features_and_targets"
   ]
  },
  {
   "cell_type": "code",
   "execution_count": 6,
   "metadata": {},
   "outputs": [],
   "source": [
    "data_train = read_files(path_newsgroups_train)\n",
    "data_test = read_files(path_newsgroups_test)\n",
    "\n",
    "raw_features, raw_targets = extract_raw_features_and_targets(data_train)\n",
    "raw_features_test, raw_targets_test = extract_raw_features_and_targets(data_test)"
   ]
  },
  {
   "cell_type": "code",
   "execution_count": 7,
   "metadata": {},
   "outputs": [],
   "source": [
    "X1, vocabulary = vectorize_texts(raw_features)\n",
    "Y1, classes_map = vectorize_by_grouping(np.array(raw_targets).reshape((-1, 1)))\n",
    "\n",
    "X1_test = vectorize_texts_by_vocabulary(raw_features_test, vocabulary)\n",
    "Y1_test, _ = vectorize_by_grouping(np.array(raw_targets_test).reshape((-1, 1)))"
   ]
  },
  {
   "cell_type": "markdown",
   "metadata": {},
   "source": [
    "## Eval Modal"
   ]
  },
  {
   "cell_type": "code",
   "execution_count": 8,
   "metadata": {},
   "outputs": [],
   "source": [
    "from mll2021ss.learning_algorithms.naive_bayes import naive_bayes_train, naive_bayes_predict\n",
    "from mll2021ss.measurement.classification import accuracy"
   ]
  },
  {
   "cell_type": "code",
   "execution_count": 9,
   "metadata": {},
   "outputs": [],
   "source": [
    "classes, prior_probability, likelihood = naive_bayes_train(X1, Y1)\n",
    "Y1_hat_test, index = naive_bayes_predict(X1_test, classes, prior_probability, likelihood)"
   ]
  },
  {
   "cell_type": "code",
   "execution_count": 10,
   "metadata": {},
   "outputs": [
    {
     "data": {
      "text/plain": [
       "array([0.72198619])"
      ]
     },
     "execution_count": 10,
     "metadata": {},
     "output_type": "execute_result"
    }
   ],
   "source": [
    "accuracy(Y1_test, Y1_hat_test)"
   ]
  },
  {
   "cell_type": "markdown",
   "metadata": {},
   "source": [
    "# 02. Linear Regression"
   ]
  },
  {
   "cell_type": "markdown",
   "metadata": {},
   "source": [
    "## Basic"
   ]
  },
  {
   "cell_type": "markdown",
   "metadata": {},
   "source": [
    "### normal equation"
   ]
  },
  {
   "cell_type": "markdown",
   "metadata": {},
   "source": [
    "$$Xw = y$$\n",
    "$$X^T X w = X^T Y$$\n",
    "$$ w = (X.T @ X)^-1 @ X.T @ Y $$\n"
   ]
  },
  {
   "cell_type": "markdown",
   "metadata": {},
   "source": [
    "### optimization target"
   ]
  },
  {
   "cell_type": "markdown",
   "metadata": {},
   "source": [
    "$$J(\\theta) = \\frac 1 {2m} ((w^Tx + b) - y)^2$$\n",
    "$$\\frac {\\partial J(\\theta)} {w} = \\frac 1 m ((w^Tx + b) - y) \\cdot x, \\textrm{    }\\frac {\\partial J(\\theta)} {b} = \\frac 1 m ((w^Tx + b) - y) $$"
   ]
  },
  {
   "cell_type": "markdown",
   "metadata": {},
   "source": [
    "## Prepare Data"
   ]
  },
  {
   "cell_type": "code",
   "execution_count": 11,
   "metadata": {},
   "outputs": [],
   "source": [
    "import pandas as pd\n",
    "data = pd.read_csv(\"report_data/mllab-03-auto-mpg.csv\")\n",
    "X2 = data[['cylinders', 'displacement', 'horsepower', 'weight', 'acceleration', 'year']].values\n",
    "Y2 = data[['mpg']].values"
   ]
  },
  {
   "cell_type": "markdown",
   "metadata": {},
   "source": [
    "## Eval model"
   ]
  },
  {
   "cell_type": "code",
   "execution_count": 12,
   "metadata": {},
   "outputs": [],
   "source": [
    "from mll2021ss.learning_algorithms.normal_equation import normal_equation_train\n",
    "from mll2021ss.learning_algorithms.linear_regression import linear_regression_cost, \\\n",
    "                                                            linear_regression_train, linear_regression_predict\n",
    "\n",
    "from mll2021ss.measurement.regression import r2_score"
   ]
  },
  {
   "cell_type": "code",
   "execution_count": 13,
   "metadata": {},
   "outputs": [
    {
     "data": {
      "text/plain": [
       "0.8092552890383932"
      ]
     },
     "execution_count": 13,
     "metadata": {},
     "output_type": "execute_result"
    }
   ],
   "source": [
    "w21 = normal_equation_train(np.insert(X2, 0, 1, axis=1), Y2)\n",
    "Y2_hat = linear_regression_predict(np.insert(X2, 0, 1, axis=1), w21)\n",
    "\n",
    "r2_score(Y2, Y2_hat)"
   ]
  },
  {
   "cell_type": "code",
   "execution_count": 14,
   "metadata": {},
   "outputs": [],
   "source": [
    "from mll2021ss.helpers.features import mean_normalizer, z_score_normalizer\n",
    "\n",
    "normalize = z_score_normalizer(X2)\n",
    "X2_normalized = normalize(X2)"
   ]
  },
  {
   "cell_type": "code",
   "execution_count": 15,
   "metadata": {},
   "outputs": [
    {
     "data": {
      "text/plain": [
       "0.8092526651235419"
      ]
     },
     "execution_count": 15,
     "metadata": {},
     "output_type": "execute_result"
    }
   ],
   "source": [
    "w22 = linear_regression_train(np.insert(X2_normalized, 0, 1, axis=1), Y2)\n",
    "Y2_hat2 = linear_regression_predict(np.insert(X2_normalized, 0, 1, axis=1), w22)\n",
    "\n",
    "r2_score(Y2, Y2_hat2)"
   ]
  },
  {
   "cell_type": "code",
   "execution_count": 16,
   "metadata": {},
   "outputs": [
    {
     "data": {
      "text/plain": [
       "0.8089968722606913"
      ]
     },
     "execution_count": 16,
     "metadata": {},
     "output_type": "execute_result"
    }
   ],
   "source": [
    "w23 = linear_regression_train(np.insert(X2_normalized, 0, 1, axis=1), Y2, learning_rate=0.03, iteration_count=3000, batch_size=30)\n",
    "\n",
    "Y2_hat3 = linear_regression_predict(np.insert(X2_normalized, 0, 1, axis=1), w23)\n",
    "r2_score(Y2, Y2_hat3)"
   ]
  },
  {
   "cell_type": "markdown",
   "metadata": {},
   "source": [
    "# 03. Logistic Regression"
   ]
  },
  {
   "cell_type": "markdown",
   "metadata": {},
   "source": [
    "## Basic"
   ]
  },
  {
   "cell_type": "markdown",
   "metadata": {},
   "source": [
    "assumes the logarithm of the odds to be a linear combination of the inputs.\n",
    "$$ log( \\frac {p} {1-p} ) = \\mathbf w^T \\mathbf x  $$\n",
    "\n",
    "we can get our Hypothesis Representation (as $p$ - the probability  that our output is 1)\n",
    "$$ h_\\theta(\\mathbf x) = \\frac 1 {1+ e^{-\\mathbf w^T \\mathbf x}} $$\n"
   ]
  },
  {
   "cell_type": "markdown",
   "metadata": {},
   "source": [
    "### optimization target"
   ]
  },
  {
   "cell_type": "markdown",
   "metadata": {},
   "source": [
    "$$ Loss(\\hat y, y) = -y \\cdot \\log(\\hat y) - (1-y) \\cdot \\log(1-\\hat y) $$"
   ]
  },
  {
   "cell_type": "markdown",
   "metadata": {},
   "source": [
    "## Prepare Data"
   ]
  },
  {
   "cell_type": "code",
   "execution_count": 2,
   "metadata": {},
   "outputs": [],
   "source": [
    "import numpy as np\n",
    "\n",
    "n_samples = 200\n",
    "\n",
    "# generate class p\n",
    "mean_p = [5, 9]\n",
    "cov_p = [[2.5, 0.8], [0.8, 0.5]]\n",
    "X_p = np.random.multivariate_normal(mean_p, cov_p, n_samples)\n",
    "\n",
    "# generate class n\n",
    "mean_n1, mean_n2 = [11, 3], [5, 2]\n",
    "cov_n = [[3, -1.3], [-1.3, 1.2]]\n",
    "X_n = np.vstack([\n",
    "    np.random.multivariate_normal(mean_n1, cov_n, int(n_samples/2)),\n",
    "    np.random.multivariate_normal(mean_n2, cov_n, int(n_samples/2))])\n",
    "\n",
    "# combine targets\n",
    "data_XY = np.vstack([\n",
    "    np.hstack([X_p, np.ones((X_p.shape[0], 1))]),\n",
    "    np.hstack([X_n, np.zeros((X_n.shape[0], 1))])\n",
    "])\n",
    "np.random.shuffle(data_XY)\n",
    "\n",
    "data_test, data_train = data_XY[:80], data_XY[80:]\n",
    "\n",
    "X3_train, Y3_train = data_train[:,:-1], data_train[:,-1:]\n",
    "X3_test, Y3_test = data_test[:,:-1], data_test[:,-1:]"
   ]
  },
  {
   "cell_type": "code",
   "execution_count": 3,
   "metadata": {},
   "outputs": [
    {
     "data": {
      "text/plain": [
       "(-4.0, 15.0)"
      ]
     },
     "execution_count": 3,
     "metadata": {},
     "output_type": "execute_result"
    },
    {
     "data": {
      "image/png": "[encoded data removed]",
      "text/plain": [
       "<Figure size 432x288 with 1 Axes>"
      ]
     },
     "metadata": {
      "needs_background": "light"
     },
     "output_type": "display_data"
    }
   ],
   "source": [
    "import matplotlib.pyplot as plt\n",
    "%matplotlib inline\n",
    "\n",
    "fig = plt.figure()\n",
    "ax = fig.add_subplot(111)\n",
    "\n",
    "ax.scatter(X_p.T[0], X_p.T[1], color=\"orange\")\n",
    "ax.scatter(X_n.T[0], X_n.T[1], color=\"green\")\n",
    "ax.set_ylim(-4, 15)\n",
    "ax.set_xlim(-4, 15)"
   ]
  },
  {
   "cell_type": "code",
   "execution_count": 56,
   "metadata": {},
   "outputs": [],
   "source": [
    "import numpy as np\n",
    "\n",
    "from interfaces.base_model import BaseModel\n",
    "\n",
    "def sigmoid(z):\n",
    "    return 1.0 / (1.0 + np.exp(-z))\n",
    "\n",
    "def softmax(z):\n",
    "    exps = np.exp(z)\n",
    "    # print(exps.shape, np.sum(exps, axis=1, keepdims=True).shape)\n",
    "    return exps / np.sum(exps, axis=1, keepdims=True)\n",
    "\n",
    "def logistic_regression_eval(X, w):\n",
    "    return softmax(X@w)\n",
    "\n",
    "\n",
    "def logistic_regression_loss(y, y_hat):\n",
    "    m = y.shape[0]\n",
    "#     loss = np.sum(-y*np.log(y_hat), axis=1) \n",
    "#     return 1.0/m * np.sum(loss, axis=0)\n",
    "    loss = np.sum(-y*np.log(y_hat), axis=1)\n",
    "    return 1./m * np.sum(loss)\n",
    "\n",
    "\n",
    "def logistic_regression_train(X, Y, learning_rate=0.1, iteration_count=1000, batch_size=None):\n",
    "    m, n = X.shape\n",
    "    _, c = Y.shape\n",
    "    w = np.zeros((n, c))\n",
    "\n",
    "    for i in range(iteration_count):\n",
    "\n",
    "        X_chosen, Y_chosen = X, Y\n",
    "        if batch_size != None:\n",
    "            choices = np.random.choice(m, size=batch_size, replace=False)\n",
    "            X_chosen, Y_chosen = X[choices, :], Y[choices, :]\n",
    "\n",
    "        Y_hat = logistic_regression_eval(X_chosen, w)\n",
    "        # print(Y_hat.shape, Y_chosen.shape, w.shape)\n",
    "        gradient = X_chosen.T @ (Y_hat - Y_chosen)\n",
    "        w -= 1.0/(batch_size or m) * learning_rate * gradient\n",
    "        print(logistic_regression_loss(Y_chosen, Y_hat))\n",
    "    return w\n",
    "\n",
    "\n",
    "def logistic_regression_predict(X, w):\n",
    "    Y_raw = logistic_regression_eval(X, w)\n",
    "    Y_label = np.argmax(Y_raw, axis=1)\n",
    "    Y_hat = (np.arange(Y_raw.shape[1]).reshape(1, -1) == Y_label.reshape(-1, 1)) * 1\n",
    "    return Y_hat\n",
    "\n",
    "\n",
    "class LogisticRegression (BaseModel):\n",
    "\n",
    "    def learn(self, X, Y, learning_rate=0.1, iteration_count=1000, batch_size=None):\n",
    "        self.w = logistic_regression_train(X, Y, learning_rate=learning_rate, iteration_count=iteration_count, batch_size=batch_size)\n",
    "\n",
    "    def infer(self, X):\n",
    "        return logistic_regression_predict(X, self.w)\n"
   ]
  },
  {
   "cell_type": "code",
   "execution_count": 57,
   "metadata": {},
   "outputs": [
    {
     "data": {
      "text/plain": [
       "(320, 1)"
      ]
     },
     "execution_count": 57,
     "metadata": {},
     "output_type": "execute_result"
    }
   ],
   "source": [
    "Y3_train.shape"
   ]
  },
  {
   "cell_type": "markdown",
   "metadata": {},
   "source": [
    "### Eval Model"
   ]
  },
  {
   "cell_type": "code",
   "execution_count": 58,
   "metadata": {},
   "outputs": [],
   "source": [
    "# from mll2021ss.learning_algorithms.logistic_regression import \\\n",
    "#     logistic_regression_loss, logistic_regression_train, logistic_regression_eval, logistic_regression_predict\n",
    "from mll2021ss.measurement.classification import accuracy "
   ]
  },
  {
   "cell_type": "code",
   "execution_count": 59,
   "metadata": {},
   "outputs": [],
   "source": [
    "Y3_train2d = np.hstack([Y3_train, 1-Y3_train])"
   ]
  },
  {
   "cell_type": "code",
   "execution_count": 60,
   "metadata": {},
   "outputs": [
    {
     "name": "stdout",
     "output_type": "stream",
     "text": [
      "0.6931471805599454\n",
      "0.36107157953574387\n",
      "0.3206382338067695\n",
      "0.297834841180395\n",
      "0.1923082549973157\n",
      "0.17493602653422155\n",
      "0.16516807693980054\n",
      "0.15926411581475003\n",
      "0.15440231203228116\n",
      "0.1502589435240018\n",
      "0.14667089732070446\n",
      "0.14352459886080357\n",
      "0.1407365452742978\n",
      "0.13824372126270598\n",
      "0.13599756137652683\n",
      "0.1339599521975564\n",
      "0.13210050839774298\n",
      "0.13039466911121741\n",
      "0.12882233778772276\n",
      "0.1273668911733401\n",
      "0.1260144445729919\n",
      "0.12475329857033629\n",
      "0.12357351650703706\n",
      "0.12246659769617894\n",
      "0.12142522174324642\n",
      "0.12044304638073121\n",
      "0.11951454606219845\n",
      "0.11863488194574293\n",
      "0.11779979629784972\n",
      "0.1170055260753621\n",
      "0.11624873170051049\n",
      "0.11552643797000264\n",
      "0.11483598472861896\n",
      "0.11417498545619742\n",
      "0.11354129231039559\n",
      "0.1129329664689146\n",
      "0.1123482528474618\n",
      "0.11178555845067246\n",
      "0.1112434337550003\n",
      "0.11072055663445696\n",
      "0.11021571842891897\n",
      "0.10972781182570164\n",
      "0.10925582028214215\n",
      "0.1087988087630325\n",
      "0.10835591560418618\n",
      "0.10792634534399453\n",
      "0.10750936238990416\n",
      "0.10710428540741086\n",
      "0.10671048233626473\n",
      "0.10632736595279331\n",
      "0.10595438990910529\n",
      "0.10559104518986631\n",
      "0.10523685693568524\n",
      "0.1048913815891887\n",
      "0.10455420432581922\n",
      "0.10422493673645068\n",
      "0.1039032147332229\n",
      "0.10358869665367741\n",
      "0.10328106154142801\n",
      "0.10298000758430921\n",
      "0.10268525069327719\n",
      "0.1023965232073528\n",
      "0.10211357271164001\n",
      "0.10183616095696642\n",
      "0.10156406287100878\n",
      "0.1012970656519143\n",
      "0.10103496793643107\n",
      "0.10077757903543803\n",
      "0.10052471823053642\n",
      "0.10027621412604026\n",
      "0.10003190405130079\n",
      "0.09979163350882454\n",
      "0.09955525566411204\n",
      "0.09932263087355306\n",
      "0.09909362624708251\n",
      "0.09886811524262382\n",
      "0.09864597728963626\n",
      "0.0984270974393404\n",
      "0.09821136603942501\n",
      "0.09799867843124538\n",
      "0.09778893466770565\n",
      "0.0975820392501846\n",
      "0.09737790088301033\n",
      "0.09717643224412434\n",
      "0.09697754977069446\n",
      "0.09678117345854448\n",
      "0.09658722667436533\n",
      "0.09639563597976221\n",
      "0.09620633096626967\n",
      "0.09601924410054108\n",
      "0.09583431057898298\n",
      "0.09565146819116455\n",
      "0.09547065719138677\n",
      "0.09529182017784499\n",
      "0.09511490197886267\n",
      "0.09493984954571608\n",
      "0.09476661185160538\n",
      "0.09459513979636347\n",
      "0.0944253861165229\n",
      "0.09425730530039145\n",
      "0.0940908535078119\n",
      "0.09392598849430596\n",
      "0.09376266953932356\n",
      "0.09360085737833984\n",
      "0.09344051413855994\n",
      "0.09328160327800845\n",
      "0.09312408952779713\n",
      "0.0929679388373776\n",
      "0.09281311832260025\n",
      "0.09265959621641157\n",
      "0.0925073418220349\n",
      "0.0923563254684888\n",
      "0.09220651846830759\n",
      "0.09205789307733735\n",
      "0.09191042245648916\n",
      "0.0917640806353387\n",
      "0.0916188424774689\n",
      "0.09147468364745848\n",
      "0.09133158057942563\n",
      "0.09118951044704188\n",
      "0.09104845113493626\n",
      "0.09090838121141492\n",
      "0.09076927990242567\n",
      "0.09063112706670204\n",
      "0.09049390317202428\n",
      "0.09035758927253933\n",
      "0.09022216698708452\n",
      "0.09008761847846417\n",
      "0.0899539264336296\n",
      "0.08982107404471729\n",
      "0.08968904499090223\n",
      "0.08955782342102525\n",
      "0.08942739393695652\n",
      "0.08929774157765855\n",
      "0.08916885180391518\n",
      "0.08904071048369351\n",
      "0.08891330387810897\n",
      "0.08878661862796433\n",
      "0.08866064174083549\n",
      "0.08853536057867842\n",
      "0.08841076284593265\n",
      "0.08828683657809837\n",
      "0.0881635701307652\n",
      "0.08804095216907204\n",
      "0.0879189716575781\n",
      "0.08779761785052675\n",
      "0.0876768802824846\n",
      "0.08755674875933846\n",
      "0.08743721334963525\n",
      "0.0873182643762488\n",
      "0.08719989240835997\n",
      "0.08708208825373571\n",
      "0.08696484295129497\n",
      "0.08684814776394843\n",
      "0.08673199417170058\n",
      "0.08661637386500319\n",
      "0.08650127873834933\n",
      "0.0863867008840979\n",
      "0.08627263258651928\n",
      "0.08615906631605233\n",
      "0.08604599472376495\n",
      "0.08593341063600907\n",
      "0.08582130704926237\n",
      "0.08570967712514964\n",
      "0.08559851418563573\n",
      "0.08548781170838383\n",
      "0.08537756332227256\n",
      "0.08526776280306488\n",
      "0.08515840406922383\n",
      "0.08504948117786852\n",
      "0.08494098832086541\n",
      "0.08483291982104951\n",
      "0.08472527012857037\n",
      "0.08461803381735838\n",
      "0.08451120558170654\n",
      "0.0844047802329633\n",
      "0.08429875269633282\n",
      "0.08419311800777768\n",
      "0.08408787131102131\n",
      "0.0839830078546455\n",
      "0.08387852298928014\n",
      "0.08377441216488149\n",
      "0.0836706709280959\n",
      "0.08356729491970571\n",
      "0.0834642798721546\n",
      "0.08336162160714931\n",
      "0.08325931603333522\n",
      "0.08315735914404299\n",
      "0.08305574701510372\n",
      "0.08295447580273058\n",
      "0.08285354174146398\n",
      "0.08275294114217882\n",
      "0.08265267039015076\n",
      "0.0825527259431804\n",
      "0.0824531043297728\n",
      "0.08235380214737054\n",
      "0.08225481606063863\n",
      "0.08215614279979953\n",
      "0.08205777915901635\n",
      "0.08195972199482296\n",
      "0.08186196822459915\n",
      "0.0817645148250895\n",
      "0.08166735883096454\n",
      "0.08157049733342273\n",
      "0.08147392747883181\n",
      "0.08137764646740865\n",
      "0.0812816515519358\n",
      "0.08118594003651403\n",
      "0.0810905092753494\n",
      "0.08099535667157397\n",
      "0.0809004796760988\n",
      "0.08080587578649856\n",
      "0.08071154254592658\n",
      "0.08061747754205917\n",
      "0.0805236784060688\n",
      "0.08043014281162476\n",
      "0.08033686847392074\n",
      "0.08024385314872828\n",
      "0.08015109463147557\n",
      "0.0800585907563506\n",
      "0.0799663393954279\n",
      "0.07987433845781833\n",
      "0.07978258588884123\n",
      "0.07969107966921792\n",
      "0.07959981781428636\n",
      "0.07950879837323606\n",
      "0.07941801942836264\n",
      "0.07932747909434162\n",
      "0.07923717551752084\n",
      "0.07914710687523062\n",
      "0.07905727137511179\n",
      "0.07896766725446047\n",
      "0.07887829277958938\n",
      "0.07878914624520528\n",
      "0.07870022597380176\n",
      "0.0786115303150674\n",
      "0.07852305764530845\n",
      "0.07843480636688574\n",
      "0.07834677490766562\n",
      "0.07825896172048419\n",
      "0.07817136528262476\n",
      "0.07808398409530792\n",
      "0.0779968166831941\n",
      "0.07790986159389801\n",
      "0.07782311739751492\n",
      "0.07773658268615824\n",
      "0.07765025607350816\n",
      "0.07756413619437103\n",
      "0.0774782217042492\n",
      "0.07739251127892119\n",
      "0.07730700361403149\n",
      "0.07722169742469026\n",
      "0.07713659144508218\n",
      "0.07705168442808463\n",
      "0.0769669751448947\n",
      "0.07688246238466462\n",
      "0.07679814495414601\n",
      "0.076714021677342\n",
      "0.07663009139516752\n",
      "0.0765463529651172\n",
      "0.076462805260941\n",
      "0.07637944717232711\n",
      "0.07629627760459211\n",
      "0.07621329547837796\n",
      "0.07613049972935611\n",
      "0.07604788930793789\n",
      "0.07596546317899165\n",
      "0.07588322032156608\n",
      "0.0758011597286197\n",
      "0.07571928040675631\n",
      "0.07563758137596639\n",
      "0.07555606166937406\n",
      "0.07547472033298963\n",
      "0.07539355642546762\n",
      "0.07531256901787\n",
      "0.07523175719343467\n",
      "0.07515112004734868\n",
      "0.0750706566865268\n",
      "0.0749903662293944\n",
      "0.07491024780567537\n",
      "0.07483030055618436\n",
      "0.07475052363262345\n",
      "0.07467091619738331\n",
      "0.07459147742334846\n",
      "0.07451220649370659\n",
      "0.07443310260176213\n",
      "0.07435416495075349\n",
      "0.07427539275367433\n",
      "0.07419678523309842\n",
      "0.07411834162100826\n",
      "0.07404006115862721\n",
      "0.07396194309625516\n",
      "0.07388398669310746\n",
      "0.07380619121715745\n",
      "0.07372855594498179\n",
      "0.07365108016160953\n",
      "0.0735737631603737\n",
      "0.07349660424276638\n",
      "0.07341960271829641\n",
      "0.07334275790435013\n",
      "0.073266069126055\n",
      "0.07318953571614581\n",
      "0.07311315701483366\n",
      "0.0730369323696776\n",
      "0.0729608611354589\n",
      "0.07288494267405753\n",
      "0.07280917635433153\n",
      "0.07273356155199849\n",
      "0.07265809764951939\n",
      "0.07258278403598492\n",
      "0.0725076201070038\n",
      "0.07243260526459357\n",
      "0.07235773891707317\n",
      "0.072283020478958\n",
      "0.07220844937085673\n",
      "0.07213402501937036\n",
      "0.07205974685699297\n",
      "0.07198561432201471\n",
      "0.07191162685842636\n",
      "0.07183778391582593\n",
      "0.07176408494932705\n",
      "0.07169052941946889\n",
      "0.07161711679212823\n",
      "0.07154384653843271\n",
      "0.07147071813467615\n",
      "0.07139773106223522\n",
      "0.07132488480748782\n",
      "0.07125217886173298\n",
      "0.07117961272111216\n",
      "0.07110718588653225\n",
      "0.07103489786358984\n",
      "0.07096274816249691\n",
      "0.07089073629800804\n",
      "0.07081886178934889\n",
      "0.07074712416014597\n",
      "0.07067552293835783\n",
      "0.07060405765620743\n",
      "0.07053272785011577\n",
      "0.07046153306063684\n",
      "0.07039047283239351\n",
      "0.07031954671401511\n",
      "0.07024875425807547\n",
      "0.07017809502103271\n",
      "0.07010756856316973\n",
      "0.0700371744485359\n",
      "0.06996691224488998\n",
      "0.0698967815236438\n",
      "0.06982678185980709\n",
      "0.06975691283193335\n",
      "0.06968717402206663\n",
      "0.0696175650156893\n",
      "0.06954808540167064\n",
      "0.06947873477221658\n",
      "0.06940951272282017\n",
      "0.06934041885221294\n",
      "0.06927145276231715\n",
      "0.06920261405819894\n",
      "0.06913390234802223\n",
      "0.06906531724300356\n",
      "0.06899685835736742\n",
      "0.06892852530830287\n",
      "0.06886031771592042\n",
      "0.06879223520320997\n",
      "0.06872427739599939\n",
      "0.06865644392291384\n",
      "0.06858873441533579\n",
      "0.06852114850736575\n",
      "0.06845368583578364\n",
      "0.0683863460400109\n",
      "0.0683191287620732\n",
      "0.06825203364656378\n",
      "0.06818506034060758\n",
      "0.06811820849382566\n",
      "0.06805147775830063\n",
      "0.06798486778854237\n",
      "0.06791837824145443\n",
      "0.06785200877630108\n",
      "0.06778575905467486\n",
      "0.06771962874046458\n",
      "0.06765361749982407\n",
      "0.06758772500114132\n",
      "0.06752195091500816\n",
      "0.06745629491419057\n",
      "0.0673907566735991\n",
      "0.0673253358702605\n",
      "0.06726003218328909\n",
      "0.06719484529385898\n",
      "0.0671297748851768\n",
      "0.06706482064245468\n",
      "0.06699998225288387\n",
      "0.06693525940560865\n",
      "0.06687065179170075\n",
      "0.06680615910413426\n",
      "0.06674178103776068\n",
      "0.0666775172892849\n",
      "0.06661336755724093\n",
      "0.06654933154196856\n",
      "0.06648540894559014\n",
      "0.06642159947198784\n",
      "0.06635790282678115\n",
      "0.06629431871730498\n",
      "0.0662308468525879\n",
      "0.06616748694333077\n",
      "0.0661042387018859\n",
      "0.06604110184223635\n",
      "0.06597807607997556\n",
      "0.06591516113228749\n",
      "0.06585235671792687\n",
      "0.06578966255720001\n",
      "0.06572707837194561\n",
      "0.0656646038855162\n",
      "0.06560223882275965\n",
      "0.06553998291000103\n",
      "0.06547783587502483\n"
     ]
    },
    {
     "name": "stdout",
     "output_type": "stream",
     "text": [
      "0.06541579744705743\n",
      "0.06535386735674979\n",
      "0.06529204533616055\n",
      "0.06523033111873913\n",
      "0.06516872443930953\n",
      "0.06510722503405396\n",
      "0.06504583264049692\n",
      "0.06498454699748964\n",
      "0.06492336784519451\n",
      "0.06486229492506995\n",
      "0.06480132797985548\n",
      "0.06474046675355695\n",
      "0.06467971099143204\n",
      "0.0646190604399761\n",
      "0.06455851484690804\n",
      "0.06449807396115648\n",
      "0.06443773753284629\n",
      "0.06437750531328493\n",
      "0.06431737705494961\n",
      "0.06425735251147405\n",
      "0.06419743143763577\n",
      "0.0641376135893436\n",
      "0.06407789872362517\n",
      "0.06401828659861479\n",
      "0.0639587769735414\n",
      "0.06389936960871678\n",
      "0.06384006426552391\n",
      "0.06378086070640546\n",
      "0.06372175869485251\n",
      "0.06366275799539349\n",
      "0.06360385837358322\n",
      "0.06354505959599206\n",
      "0.0634863614301953\n",
      "0.06342776364476287\n",
      "0.06336926600924873\n",
      "0.06331086829418109\n",
      "0.06325257027105212\n",
      "0.06319437171230828\n",
      "0.06313627239134059\n",
      "0.063078272082475\n",
      "0.06302037056096314\n",
      "0.06296256760297296\n",
      "0.06290486298557962\n",
      "0.06284725648675647\n",
      "0.06278974788536627\n",
      "0.06273233696115245\n",
      "0.06267502349473043\n",
      "0.06261780726757932\n",
      "0.06256068806203337\n",
      "0.06250366566127397\n",
      "0.06244673984932136\n",
      "0.06238991041102682\n",
      "0.06233317713206463\n",
      "0.06227653979892456\n",
      "0.062219998198903996\n",
      "0.06216355212010058\n",
      "0.06210720135140474\n",
      "0.06205094568249242\n",
      "0.06199478490381782\n",
      "0.061938718806606397\n",
      "0.0618827471828478\n",
      "0.061826869825289\n",
      "0.06177108652742757\n",
      "0.06171539708350483\n",
      "0.06165980128849951\n",
      "0.061604298938120965\n",
      "0.06154888982880296\n",
      "0.06149357375769735\n",
      "0.06143835052266775\n",
      "0.061383219922283495\n",
      "0.06132818175581352\n",
      "0.061273235823220466\n",
      "0.06121838192515472\n",
      "0.0611636198629488\n",
      "0.061108949438611365\n",
      "0.06105437045482183\n",
      "0.060999882714924715\n",
      "0.060945486022924135\n",
      "0.060891180183478444\n",
      "0.06083696500189502\n",
      "0.06078284028412474\n",
      "0.06072880583675712\n",
      "0.06067486146701502\n",
      "0.06062100698274964\n",
      "0.06056724219243564\n",
      "0.06051356690516616\n",
      "0.06045998093064802\n",
      "0.06040648407919698\n",
      "0.060353076161733035\n",
      "0.06029975698977581\n",
      "0.06024652637543995\n",
      "0.060193384131430654\n",
      "0.06014033007103919\n",
      "0.06008736400813857\n",
      "0.06003448575717926\n",
      "0.05998169513318478\n",
      "0.05992899195174764\n",
      "0.05987637602902507\n",
      "0.059823847181735106\n",
      "0.059771405227152345\n",
      "0.059719049983104115\n",
      "0.05966678126796646\n",
      "0.05961459890066029\n",
      "0.05956250270064764\n",
      "0.0595104924879277\n",
      "0.05945856808303332\n",
      "0.05940672930702713\n",
      "0.05935497598149808\n",
      "0.05930330792855779\n",
      "0.059251724970837\n",
      "0.05920022693148211\n",
      "0.05914881363415169\n",
      "0.059097484903013246\n",
      "0.05904624056273966\n",
      "0.058995080438506056\n",
      "0.058944004355986394\n",
      "0.0588930121413504\n",
      "0.058842103621260224\n",
      "0.058791278622867454\n",
      "0.05874053697380991\n",
      "0.05868987850220864\n",
      "0.05863930303666486\n",
      "0.058588810406257054\n",
      "0.05853840044053792\n",
      "0.05848807296953154\n",
      "0.058437827823730505\n",
      "0.05838766483409306\n",
      "0.05833758383204033\n",
      "0.058287584649453494\n",
      "0.058237667118671205\n",
      "0.0581878310724867\n",
      "0.05813807634414532\n",
      "0.058088402767341764\n",
      "0.05803881017621754\n",
      "0.05798929840535841\n",
      "0.057939867289791884\n",
      "0.05789051666498457\n",
      "0.05784124636683999\n",
      "0.05779205623169584\n",
      "0.05774294609632174\n",
      "0.05769391579791688\n",
      "0.05764496517410757\n",
      "0.057596094062945004\n",
      "0.05754730230290287\n",
      "0.05749858973287519\n",
      "0.057449956192174\n",
      "0.057401401520527175\n",
      "0.05735292555807625\n",
      "0.057304528145374234\n",
      "0.057256209123383445\n",
      "0.057207968333473504\n",
      "0.057159805617419096\n",
      "0.057111720817398064\n",
      "0.05706371377598927\n",
      "0.057015784336170654\n",
      "0.05696793234131713\n",
      "0.05692015763519875\n",
      "0.05687246006197867\n",
      "0.05682483946621128\n",
      "0.05677729569284025\n",
      "0.05672982858719671\n",
      "0.05668243799499734\n",
      "0.05663512376234257\n",
      "0.05658788573571473\n",
      "0.05654072376197632\n",
      "0.05649363768836812\n",
      "0.05644662736250755\n",
      "0.0563996926323869\n",
      "0.056352833346371506\n",
      "0.056306049353198245\n",
      "0.056259340501973704\n",
      "0.05621270664217255\n",
      "0.056166147623635955\n",
      "0.05611966329656988\n",
      "0.0560732535115435\n",
      "0.05602691811948765\n",
      "0.05598065697169317\n",
      "0.05593446991980942\n",
      "0.05588835681584273\n",
      "0.05584231751215484\n",
      "0.05579635186146142\n",
      "0.05575045971683053\n",
      "0.05570464093168126\n",
      "0.05565889535978213\n",
      "0.05561322285524968\n",
      "0.055567623272547134\n",
      "0.05552209646648285\n",
      "0.05547664229220903\n",
      "0.05543126060522022\n",
      "0.05538595126135198\n",
      "0.055340714116779634\n",
      "0.05529554902801673\n",
      "0.05525045585191384\n",
      "0.0552054344456572\n",
      "0.0551604846667674\n",
      "0.05511560637309809\n",
      "0.055070799422834715\n",
      "0.055026063674493225\n",
      "0.05498139898691881\n",
      "0.05493680521928467\n",
      "0.05489228223109082\n",
      "0.05484782988216278\n",
      "0.05480344803265046\n",
      "0.05475913654302688\n",
      "0.054714895274087044\n",
      "0.054670724086946745\n",
      "0.054626622843041366\n",
      "0.054582591404124796\n",
      "0.05453862963226819\n",
      "0.05449473738985897\n",
      "0.05445091453959955\n",
      "0.05440716094450635\n",
      "0.054363476467908615\n",
      "0.054319860973447334\n",
      "0.05427631432507423\n",
      "0.05423283638705054\n",
      "0.05418942702394613\n",
      "0.05414608610063829\n",
      "0.054102813482310774\n",
      "0.054059609034452755\n",
      "0.05401647262285772\n",
      "0.05397340411362257\n",
      "0.05393040337314654\n",
      "0.053887470268130226\n",
      "0.05384460466557454\n",
      "0.05380180643277976\n",
      "0.05375907543734459\n",
      "0.05371641154716516\n",
      "0.05367381463043404\n",
      "0.05363128455563933\n",
      "0.053588821191563656\n",
      "0.05354642440728335\n",
      "0.05350409407216736\n",
      "0.053461830055876486\n",
      "0.053419632228362324\n",
      "0.0533775004598665\n",
      "0.05333543462091964\n",
      "0.05329343458234053\n",
      "0.05325150021523528\n",
      "0.053209631390996354\n",
      "0.05316782798130178\n",
      "0.05312608985811416\n",
      "0.053084416893679987\n",
      "0.05304280896052869\n",
      "0.053001265931471746\n",
      "0.05295978767960188\n",
      "0.052918374078292287\n",
      "0.05287702500119577\n",
      "0.05283574032224384\n",
      "0.052794519915646015\n",
      "0.052753363655888896\n",
      "0.05271227141773554\n",
      "0.052671243076224394\n",
      "0.052630278506668786\n",
      "0.05258937758465591\n",
      "0.05254854018604618\n",
      "0.05250776618697241\n",
      "0.05246705546383901\n",
      "0.05242640789332129\n",
      "0.05238582335236465\n",
      "0.052345301718183815\n",
      "0.052304842868262105\n",
      "0.05226444668035071\n",
      "0.05222411303246787\n",
      "0.052183841802898284\n",
      "0.05214363287019215\n",
      "0.05210348611316471\n",
      "0.05206340141089532\n",
      "0.052023378642726825\n",
      "0.0519834176882648\n",
      "0.05194351842737688\n",
      "0.051903680740192054\n",
      "0.05186390450709993\n",
      "0.05182418960875004\n",
      "0.051784535926051235\n",
      "0.05174494334017084\n",
      "0.05170541173253414\n",
      "0.05166594098482358\n",
      "0.051626530978978125\n",
      "0.051587181597192625\n",
      "0.051547892721917066\n",
      "0.05150866423585601\n",
      "0.05146949602196785\n",
      "0.051430387963464164\n",
      "0.05139133994380912\n",
      "0.05135235184671878\n",
      "0.051313423556160455\n",
      "0.051274554956352095\n",
      "0.051235745931761556\n",
      "0.05119699636710613\n",
      "0.05115830614735178\n",
      "0.05111967515771251\n",
      "0.051081103283649856\n",
      "0.05104259041087214\n",
      "0.05100413642533391\n",
      "0.05096574121323533\n",
      "0.05092740466102155\n",
      "0.05088912665538208\n",
      "0.050850907083250255\n",
      "0.05081274583180252\n",
      "0.05077464278845795\n",
      "0.05073659784087756\n",
      "0.05069861087696375\n",
      "0.050660681784859767\n",
      "0.05062281045294895\n",
      "0.050584996769854396\n",
      "0.05054724062443812\n",
      "0.05050954190580064\n",
      "0.050471900503280355\n",
      "0.05043431630645299\n",
      "0.05039678920513096\n",
      "0.05035931908936288\n",
      "0.05032190584943293\n",
      "0.050284549375860355\n",
      "0.050247249559398854\n",
      "0.05021000629103605\n",
      "0.05017281946199292\n",
      "0.050135688963723224\n",
      "0.05009861468791302\n",
      "0.05006159652648004\n",
      "0.050024634371573146\n",
      "0.04998772811557187\n",
      "0.04995087765108577\n",
      "0.04991408287095395\n",
      "0.0498773436682445\n",
      "0.04984065993625397\n",
      "0.049804031568506824\n",
      "0.04976745845875494\n",
      "0.04973094050097702\n",
      "0.049694477589378144\n",
      "0.04965806961838918\n",
      "0.049621716482666285\n",
      "0.04958541807709041\n",
      "0.049549174296766696\n",
      "0.049512985037024095\n",
      "0.04947685019341469\n",
      "0.04944076966171336\n",
      "0.04940474333791711\n",
      "0.049368771118244684\n",
      "0.04933285289913595\n",
      "0.04929698857725148\n",
      "0.04926117804947201\n",
      "0.04922542121289797\n",
      "0.049189717964848924\n",
      "0.04915406820286314\n",
      "0.04911847182469702\n",
      "0.04908292872832468\n",
      "0.04904743881193745\n",
      "0.04901200197394327\n",
      "0.04897661811296642\n",
      "0.04894128712784678\n",
      "0.04890600891763953\n",
      "0.0488707833816146\n",
      "0.04883561041925615\n",
      "0.0488004899302622\n",
      "0.04876542181454402\n",
      "0.04873040597222573\n",
      "0.048695442303643824\n",
      "0.04866053070934664\n",
      "0.048625671090093976\n",
      "0.04859086334685651\n",
      "0.04855610738081546\n",
      "0.048521403093361976\n",
      "0.04848675038609676\n",
      "0.0484521491608296\n",
      "0.04841759931957887\n",
      "0.048383100764571106\n",
      "0.04834865339824049\n",
      "0.048314257123228434\n",
      "0.048279911842383144\n",
      "0.0482456174587591\n",
      "0.04821137387561662\n",
      "0.04817718099642143\n",
      "0.048143038724844205\n",
      "0.04810894696476013\n",
      "0.04807490562024838\n",
      "0.04804091459559173\n",
      "0.04800697379527616\n",
      "0.04797308312399026\n",
      "0.04793924248662493\n",
      "0.04790545178827285\n",
      "0.047871710934228096\n",
      "0.04783801982998565\n",
      "0.04780437838124098\n",
      "0.04777078649388957\n",
      "0.047737244074026575\n",
      "0.047703751027946266\n",
      "0.04767030726214168\n",
      "0.04763691268330414\n",
      "0.04760356719832288\n",
      "0.047570270714284504\n",
      "0.04753702313847267\n",
      "0.04750382437836759\n",
      "0.047470674341645674\n",
      "0.047437572936178986\n",
      "0.047404520070034956\n",
      "0.04737151565147582\n",
      "0.0473385595889583\n",
      "0.04730565179113315\n",
      "0.047272792166844706\n",
      "0.04723998062513051\n",
      "0.047207217075220825\n",
      "0.04717450142653833\n",
      "0.047141833588697585\n",
      "0.04710921347150465\n",
      "0.04707664098495671\n",
      "0.047044116039241635\n",
      "0.047011638544737576\n",
      "0.0469792084120125\n",
      "0.04694682555182382\n",
      "0.04691448987511805\n",
      "0.04688220129303027\n",
      "0.04684995971688382\n",
      "0.046817765058189804\n",
      "0.0467856172286468\n",
      "0.04675351614014028\n",
      "0.04672146170474247\n",
      "0.046689453834711625\n",
      "0.04665749244249191\n",
      "0.04662557744071283\n",
      "0.04659370874218887\n",
      "0.04656188625991916\n",
      "0.04653010990708695\n",
      "0.046498379597059325\n",
      "0.046466695243386785\n",
      "0.04643505675980278\n",
      "0.0464034640602234\n",
      "0.04637191705874695\n",
      "0.04634041566965357\n",
      "0.046308959807404765\n",
      "0.046277549386643156\n",
      "0.04624618432219194\n",
      "0.04621486452905465\n",
      "0.04618358992241459\n",
      "0.046152360417634646\n",
      "0.0461211759302567\n",
      "0.046090036376001425\n",
      "0.04605894167076776\n",
      "0.046027891730632625\n",
      "0.04599688647185045\n",
      "0.045965925810852876\n",
      "0.04593500966424832\n",
      "0.045904137948821616\n",
      "0.0458733105815336\n",
      "0.045842527479520806\n",
      "0.04581178856009497\n",
      "0.04578109374074281\n",
      "0.045750442939125495\n",
      "0.045719836073078356\n",
      "0.04568927306061049\n",
      "0.04565875381990441\n",
      "0.0456282782693156\n",
      "0.04559784632737222\n",
      "0.04556745791277471\n",
      "0.045537112944395386\n",
      "0.045506811341278104\n",
      "0.04547655302263792\n",
      "0.04544633790786064\n",
      "0.04541616591650249\n",
      "0.04538603696828979\n",
      "0.045355950983118544\n",
      "0.04532590788105404\n",
      "0.0452959075823306\n",
      "0.04526595000735108\n",
      "0.045236035076686595\n",
      "0.04520616271107614\n",
      "0.0451763328314262\n",
      "0.0451465453588104\n",
      "0.0451168002144692\n",
      "0.0450870973198094\n",
      "0.04505743659640398\n",
      "0.04502781796599155\n",
      "0.04499824135047607\n",
      "0.04496870667192659\n",
      "0.044939213852576654\n",
      "0.04490976281482423\n",
      "0.04488035348123111\n",
      "0.04485098577452274\n",
      "0.04482165961758773\n",
      "0.04479237493347762\n",
      "0.0447631316454064\n",
      "0.04473392967675027\n",
      "0.044704768951047275\n",
      "0.04467564939199686\n",
      "0.04464657092345963\n",
      "0.04461753346945699\n",
      "0.04458853695417069\n",
      "0.044559581301942625\n",
      "0.04453066643727441\n",
      "0.04450179228482701\n",
      "0.04447295876942047\n",
      "0.044444165816033526\n",
      "0.04441541334980322\n",
      "0.044386701296024705\n",
      "0.04435802958015072\n",
      "0.044329398127791325\n",
      "0.044300806864713646\n",
      "0.044272255716841374\n",
      "0.04424374461025458\n",
      "0.044215273471189254\n",
      "0.044186842226037026\n",
      "0.04415845080134484\n",
      "0.0441300991238146\n",
      "0.044101787120302806\n",
      "0.04407351471782027\n",
      "0.044045281843531764\n",
      "0.04401708842475565\n",
      "0.04398893438896359\n",
      "0.04396081966378023\n",
      "0.0439327441769828\n",
      "0.04390470785650083\n",
      "0.04387671063041582\n",
      "0.0438487524269609\n",
      "0.04382083317452049\n",
      "0.043792952801630015\n",
      "0.04376511123697551\n",
      "0.04373730840939333\n",
      "0.04370954424786984\n",
      "0.043681818681541085\n",
      "0.04365413163969241\n",
      "0.043626483051758216\n",
      "0.04359887284732155\n",
      "0.04357130095611386\n",
      "0.04354376730801465\n",
      "0.04351627183305114\n",
      "0.04348881446139794\n",
      "0.043461395123376725\n",
      "0.04343401374945598\n",
      "0.043406670270250594\n",
      "0.0433793646165216\n",
      "0.04335209671917583\n",
      "0.04332486650926562\n",
      "0.0432976739179884\n",
      "0.04327051887668657\n",
      "0.043243401316847\n",
      "0.04321632117010077\n",
      "0.0431892783682229\n",
      "0.043162272843132045\n",
      "0.04313530452689002\n",
      "0.043108373351701736\n",
      "0.04308147924991469\n",
      "0.04305462215401876\n",
      "0.04302780199664582\n",
      "0.043001018710569494\n",
      "0.04297427222870485\n",
      "0.042947562484108\n",
      "0.04292088940997588\n",
      "0.04289425293964596\n",
      "0.042867653006595806\n",
      "0.04284108954444294\n",
      "0.04281456248694442\n",
      "0.042788071767996566\n",
      "0.04276161732163468\n",
      "0.04273519908203269\n",
      "0.042708816983502915\n",
      "0.04268247096049568\n",
      "0.04265616094759908\n",
      "0.042629886879538705\n",
      "0.0426036486911772\n",
      "0.042577446317514124\n",
      "0.04255127969368555\n",
      "0.04252514875496377\n",
      "0.04249905343675712\n",
      "0.04247299367460949\n",
      "0.042446969404200154\n",
      "0.04242098056134345\n",
      "0.04239502708198846\n",
      "0.04236910890221873\n",
      "0.04234322595825201\n",
      "0.04231737818643986\n",
      "0.042291565523267474\n",
      "0.042265787905353285\n",
      "0.04224004526944877\n",
      "0.04221433755243808\n",
      "0.042188664691337766\n",
      "0.04216302662329652\n",
      "0.04213742328559484\n",
      "0.04211185461564479\n",
      "0.04208632055098967\n",
      "0.04206082102930371\n",
      "0.04203535598839187\n",
      "0.04200992536618945\n"
     ]
    },
    {
     "name": "stdout",
     "output_type": "stream",
     "text": [
      "0.041984529100761864\n",
      "0.041959167130304356\n",
      "0.04193383939314165\n",
      "0.04190854582772776\n"
     ]
    },
    {
     "data": {
      "text/plain": [
       "2.2498873675846087"
      ]
     },
     "execution_count": 60,
     "metadata": {},
     "output_type": "execute_result"
    }
   ],
   "source": [
    "w3 = logistic_regression_train(np.insert(X3_train, 0, 1, axis=1), Y3_train2d)\n",
    "Y3_train_hat = logistic_regression_eval(np.insert(X3_train, 0, 1, axis=1), w3)\n",
    "logistic_regression_loss(Y3_train, Y3_train_hat)"
   ]
  },
  {
   "cell_type": "code",
   "execution_count": 21,
   "metadata": {},
   "outputs": [
    {
     "data": {
      "text/plain": [
       "array([0.9875])"
      ]
     },
     "execution_count": 21,
     "metadata": {},
     "output_type": "execute_result"
    }
   ],
   "source": [
    "Y3_test_hat = logistic_regression_predict(np.insert(X3_test, 0, 1, axis=1), w3)\n",
    "accuracy(Y3_test, Y3_test_hat)"
   ]
  },
  {
   "cell_type": "markdown",
   "metadata": {},
   "source": [
    "# 04. k-means"
   ]
  },
  {
   "cell_type": "markdown",
   "metadata": {},
   "source": [
    "## Prepare Data"
   ]
  },
  {
   "cell_type": "code",
   "execution_count": 22,
   "metadata": {},
   "outputs": [],
   "source": [
    "n_pre_cluster = 100\n",
    "cluster = [\n",
    "    ([5, 9], [[2.5, 0.8], [0.8, 0.5]]),\n",
    "    ([11, 3], [[3, -1.3], [-1.3, 1.2]]),\n",
    "    ([5, 2], [[3, -1.3], [-1.3, 1.2]])\n",
    "]\n",
    "X4 = np.vstack([np.random.multivariate_normal(mean, cov, n_pre_cluster) for mean, cov in cluster])"
   ]
  },
  {
   "cell_type": "markdown",
   "metadata": {},
   "source": [
    "## Eval Model"
   ]
  },
  {
   "cell_type": "code",
   "execution_count": 23,
   "metadata": {},
   "outputs": [],
   "source": [
    "from mll2021ss.learning_algorithms.k_means import k_means_loss, k_means_train, k_means_predict"
   ]
  },
  {
   "cell_type": "code",
   "execution_count": 24,
   "metadata": {},
   "outputs": [
    {
     "data": {
      "text/plain": [
       "(75.06338500391695,\n",
       " array([[ 5.19970415,  9.0303833 ],\n",
       "        [ 4.85111969,  2.12311575],\n",
       "        [11.07092901,  2.9777813 ]]))"
      ]
     },
     "execution_count": 24,
     "metadata": {},
     "output_type": "execute_result"
    }
   ],
   "source": [
    "# X_train from 03\n",
    "centroids = k_means_train(X4, 3, iteration_count=1000)\n",
    "Y4_hat = k_means_predict(X4, centroids)\n",
    "k_means_loss(X4, Y4_hat), centroids"
   ]
  },
  {
   "cell_type": "code",
   "execution_count": 25,
   "metadata": {},
   "outputs": [
    {
     "data": {
      "text/plain": [
       "<matplotlib.collections.PathCollection at 0x122f29640>"
      ]
     },
     "execution_count": 25,
     "metadata": {},
     "output_type": "execute_result"
    },
    {
     "data": {
      "image/png": "[encoded data removed]",
      "text/plain": [
       "<Figure size 432x288 with 1 Axes>"
      ]
     },
     "metadata": {
      "needs_background": "light"
     },
     "output_type": "display_data"
    }
   ],
   "source": [
    "import matplotlib.pyplot as plt\n",
    "%matplotlib inline\n",
    "\n",
    "plt.scatter(X4[:, 0], X4[:, 1], marker='o')\n",
    "plt.grid()\n",
    "plt.scatter(centroids[:, 0], centroids[:, 1], marker='x', color=\"red\")"
   ]
  },
  {
   "cell_type": "code",
   "execution_count": 26,
   "metadata": {},
   "outputs": [],
   "source": [
    "## TODO k means performance"
   ]
  },
  {
   "cell_type": "markdown",
   "metadata": {},
   "source": [
    "# 05. Decision Trees"
   ]
  },
  {
   "cell_type": "markdown",
   "metadata": {},
   "source": [
    "## Prepare Data"
   ]
  },
  {
   "cell_type": "code",
   "execution_count": 27,
   "metadata": {},
   "outputs": [
    {
     "name": "stdout",
     "output_type": "stream",
     "text": [
      "mkdir: report_data/CAR: File exists\n",
      "  % Total    % Received % Xferd  Average Speed   Time    Time     Time  Current\n",
      "                                 Dload  Upload   Total   Spent    Left  Speed\n",
      "100 51867  100 51867    0     0  76954      0 --:--:-- --:--:-- --:--:-- 76840\n",
      "  % Total    % Received % Xferd  Average Speed   Time    Time     Time  Current\n",
      "                                 Dload  Upload   Total   Spent    Left  Speed\n",
      "100  3097  100  3097    0     0   9272      0 --:--:-- --:--:-- --:--:--  9272\n"
     ]
    }
   ],
   "source": [
    "#shell scripts for downloading the data and placing it in a corresponding directory\n",
    "!mkdir report_data/CAR \n",
    "!curl -o report_data/CAR/data \"http://archive.ics.uci.edu/ml/machine-learning-databases/car/car.data\"\n",
    "!curl -o report_data/CAR/description \"http://archive.ics.uci.edu/ml/machine-learning-databases/car/car.names\"\n",
    "#download the description and display it here.\n",
    "# !cat CAR/description"
   ]
  },
  {
   "cell_type": "code",
   "execution_count": 28,
   "metadata": {},
   "outputs": [
    {
     "data": {
      "text/html": [
       "<div>\n",
       "<style scoped>\n",
       "    .dataframe tbody tr th:only-of-type {\n",
       "        vertical-align: middle;\n",
       "    }\n",
       "\n",
       "    .dataframe tbody tr th {\n",
       "        vertical-align: top;\n",
       "    }\n",
       "\n",
       "    .dataframe thead th {\n",
       "        text-align: right;\n",
       "    }\n",
       "</style>\n",
       "<table border=\"1\" class=\"dataframe\">\n",
       "  <thead>\n",
       "    <tr style=\"text-align: right;\">\n",
       "      <th></th>\n",
       "      <th>price_buy</th>\n",
       "      <th>price_main</th>\n",
       "      <th>n_doors</th>\n",
       "      <th>n_persons</th>\n",
       "      <th>lug_boot</th>\n",
       "      <th>safety</th>\n",
       "      <th>recommendation</th>\n",
       "    </tr>\n",
       "  </thead>\n",
       "  <tbody>\n",
       "    <tr>\n",
       "      <th>0</th>\n",
       "      <td>vhigh</td>\n",
       "      <td>vhigh</td>\n",
       "      <td>2</td>\n",
       "      <td>2</td>\n",
       "      <td>small</td>\n",
       "      <td>low</td>\n",
       "      <td>unacc</td>\n",
       "    </tr>\n",
       "    <tr>\n",
       "      <th>1</th>\n",
       "      <td>vhigh</td>\n",
       "      <td>vhigh</td>\n",
       "      <td>2</td>\n",
       "      <td>2</td>\n",
       "      <td>small</td>\n",
       "      <td>med</td>\n",
       "      <td>unacc</td>\n",
       "    </tr>\n",
       "    <tr>\n",
       "      <th>2</th>\n",
       "      <td>vhigh</td>\n",
       "      <td>vhigh</td>\n",
       "      <td>2</td>\n",
       "      <td>2</td>\n",
       "      <td>small</td>\n",
       "      <td>high</td>\n",
       "      <td>unacc</td>\n",
       "    </tr>\n",
       "    <tr>\n",
       "      <th>3</th>\n",
       "      <td>vhigh</td>\n",
       "      <td>vhigh</td>\n",
       "      <td>2</td>\n",
       "      <td>2</td>\n",
       "      <td>med</td>\n",
       "      <td>low</td>\n",
       "      <td>unacc</td>\n",
       "    </tr>\n",
       "    <tr>\n",
       "      <th>4</th>\n",
       "      <td>vhigh</td>\n",
       "      <td>vhigh</td>\n",
       "      <td>2</td>\n",
       "      <td>2</td>\n",
       "      <td>med</td>\n",
       "      <td>med</td>\n",
       "      <td>unacc</td>\n",
       "    </tr>\n",
       "  </tbody>\n",
       "</table>\n",
       "</div>"
      ],
      "text/plain": [
       "  price_buy price_main n_doors n_persons lug_boot safety recommendation\n",
       "0     vhigh      vhigh       2         2    small    low          unacc\n",
       "1     vhigh      vhigh       2         2    small    med          unacc\n",
       "2     vhigh      vhigh       2         2    small   high          unacc\n",
       "3     vhigh      vhigh       2         2      med    low          unacc\n",
       "4     vhigh      vhigh       2         2      med    med          unacc"
      ]
     },
     "execution_count": 28,
     "metadata": {},
     "output_type": "execute_result"
    }
   ],
   "source": [
    "# csv-file has no header, so we define it manually\n",
    "col_names = ['price_buy', 'price_main', 'n_doors', 'n_persons', 'lug_boot', 'safety', 'recommendation']\n",
    "df = pd.read_csv(\"report_data/CAR/data\", header=None, names=col_names)\n",
    "X5, Y5 = df.values[:, :6], df.values[:, 6]\n",
    "df.head()"
   ]
  },
  {
   "cell_type": "markdown",
   "metadata": {},
   "source": [
    "## Eval Model"
   ]
  },
  {
   "cell_type": "code",
   "execution_count": 29,
   "metadata": {},
   "outputs": [
    {
     "data": {
      "text/plain": [
       "0.9348837209302326"
      ]
     },
     "execution_count": 29,
     "metadata": {},
     "output_type": "execute_result"
    }
   ],
   "source": [
    "from mll2021ss.learning_algorithms.decision_tree import ID3_train, ID3_predict, gini\n",
    "from mll2021ss.measurement.data_sampling import get_k_folds\n",
    "from mll2021ss.measurement.classification import accuracy\n",
    "\n",
    "np.random.seed(0)\n",
    "k = 10\n",
    "folds = get_k_folds(X5.shape[0], k)\n",
    "accs = []\n",
    "for train_indices, test_indices in folds:\n",
    "    X_train, Y_train = X5[train_indices], Y5[train_indices]\n",
    "    X_test, Y_test = X5[test_indices], Y5[test_indices]\n",
    "    \n",
    "    t = ID3_train(X_train, Y_train, impurity_function=gini)\n",
    "    Y_test_hat = ID3_predict(X_test, t)\n",
    "    \n",
    "    accs.append(accuracy(Y_test, Y_test_hat))\n",
    "    \n",
    "np.sum(accs) / len(accs)"
   ]
  },
  {
   "cell_type": "markdown",
   "metadata": {},
   "source": [
    "# 06. Neural Network"
   ]
  },
  {
   "cell_type": "markdown",
   "metadata": {},
   "source": [
    "## Basic of Neural Network"
   ]
  },
  {
   "cell_type": "markdown",
   "metadata": {},
   "source": [
    "### Forward Propagation"
   ]
  },
  {
   "cell_type": "markdown",
   "metadata": {},
   "source": [
    "$$ Z^{[1]} = W^{[1]} X + b^{[1]}$$\n",
    "$$ A^{[1]} = g (Z^{[1]})$$\n",
    "\n",
    "$$ Z^{[l]} = W^{[l]} A^{[l-1]} + b^{[l]}$$\n",
    "$$ A^{[l]} = g (Z^{[l]})$$"
   ]
  },
  {
   "cell_type": "markdown",
   "metadata": {},
   "source": [
    "### Backward Propagation"
   ]
  },
  {
   "cell_type": "markdown",
   "metadata": {},
   "source": [
    "\n",
    "$$ \\partial \\frac {J(\\theta)} {\\partial \\mathbf A^{[L]}} = \n",
    "- \\frac {Y} {A^{[L]}}  + \\frac {1 - Y} {1 - A^{[L]}} $$\n",
    "\n",
    "$$\\vdots $$\n",
    "\n",
    "---\n",
    "\n",
    "$$ \\partial \\frac {J(\\theta)} {\\partial \\mathbf A^{[l]}} = \n",
    " \\mathbf W^{[l]}(\\partial \\frac {J(\\theta)} {\\partial \\mathbf Z^{[l+1]}}) $$\n",
    "\n",
    "$$ \\partial \\frac {J(\\theta)} {\\partial \\mathbf Z^{[l]}} = \\partial \\frac {J(\\theta)} {\\partial \\mathbf A^{[l]} } \\ast g'^{[l]}(\\mathbf Z^{[l]}) $$\n",
    "\n",
    "$$ \\partial \\frac {J(\\theta)} {\\partial \\mathbf W^{[l]}} = \\frac 1 m \\mathbf A^{[l-1]}(\\partial \\frac {J(\\theta)} {\\partial \\mathbf Z^{[l]}})^T $$\n",
    "\n",
    "---\n",
    "\n",
    "$$\\vdots $$\n",
    "\n",
    "$$ \\partial \\frac {J(\\theta)} {\\partial \\mathbf W^{[1]}} = \\frac 1 m \\mathbf X (\\partial \\frac {J(\\theta)} {\\partial \\mathbf Z^{[1]}})^T $$\n",
    "\n"
   ]
  },
  {
   "cell_type": "markdown",
   "metadata": {},
   "source": [
    "## Prepare Data"
   ]
  },
  {
   "cell_type": "code",
   "execution_count": 30,
   "metadata": {},
   "outputs": [],
   "source": [
    "import sklearn.datasets\n",
    "\n",
    "np.random.seed(0)\n",
    "X6, Y6 = sklearn.datasets.make_moons(200, noise=0.20)\n",
    "classes6 = np.unique(Y6).reshape(1, -1)\n",
    "Y6 = (classes6 == Y6.reshape(-1, 1)) * 1\n",
    "X6_train, Y6_train = X6[:180], Y6[:180]\n",
    "X6_test, Y6_test = X6[180:], Y6[180:]"
   ]
  },
  {
   "cell_type": "markdown",
   "metadata": {},
   "source": [
    "## Eval Model"
   ]
  },
  {
   "cell_type": "code",
   "execution_count": 31,
   "metadata": {},
   "outputs": [],
   "source": [
    "from mll2021ss.learning_algorithms.neural_network import neural_network_train, neural_network_predict, \\\n",
    "    tanh_gradient, softmax, softmax_gradient\n",
    "from mll2021ss.measurement.classification import accuracy"
   ]
  },
  {
   "cell_type": "code",
   "execution_count": 32,
   "metadata": {},
   "outputs": [
    {
     "data": {
      "text/plain": [
       "array([1., 1.])"
      ]
     },
     "execution_count": 32,
     "metadata": {},
     "output_type": "execute_result"
    }
   ],
   "source": [
    "layers = [(4, np.tanh, tanh_gradient), (2, softmax, softmax_gradient)]\n",
    "np.random.seed(0)\n",
    "\n",
    "Ws6, bs6 = neural_network_train(X6_train, Y6_train, layers, learning_rate=0.01, iteration_count=3000)\n",
    "Y6_hat = neural_network_predict(X6_test, Ws6, bs6, layers)\n",
    "accuracy(Y6_test, Y6_hat)"
   ]
  },
  {
   "cell_type": "markdown",
   "metadata": {},
   "source": [
    "# 07. SVM"
   ]
  },
  {
   "cell_type": "code",
   "execution_count": 33,
   "metadata": {},
   "outputs": [],
   "source": [
    "url = \"https://archive.ics.uci.edu/ml/machine-learning-databases/00229/Skin_NonSkin.txt\" \n",
    "data = pd.read_csv(url, header = None, sep='\\t').to_numpy()\n",
    "\n",
    "np.random.seed(1)\n",
    "\n",
    "msk = np.random.rand(len(data)) < 0.8\n",
    "X7 = np.insert(data[:, :3], 0, 1, axis=1)\n",
    "Y7 = np.unique(data[:, -1:], return_inverse=True)[1].reshape(-1, 1) # transfer y to 0, 1\n",
    "\n",
    "X7_train, Y7_train = X7[msk], Y7[msk]\n",
    "X7_test, Y7_test = X7[~msk], Y7[~msk]"
   ]
  },
  {
   "cell_type": "code",
   "execution_count": 34,
   "metadata": {},
   "outputs": [
    {
     "data": {
      "text/plain": [
       "array([0.93418901])"
      ]
     },
     "execution_count": 34,
     "metadata": {},
     "output_type": "execute_result"
    }
   ],
   "source": [
    "# m = 100000 # 245057\n",
    "from mll2021ss.learning_algorithms.support_vector_machine import \\\n",
    "    support_vector_machine_train, support_vector_machine_predict\n",
    "from mll2021ss.measurement.classification import accuracy\n",
    "\n",
    "w7 = support_vector_machine_train(X7_train, Y7_train, big_c=1, learning_rate=0.01, iteration_count=100, batch_size=200)\n",
    "Y7_test_hat = support_vector_machine_predict(X7_test, w7)\n",
    "accuracy(Y7_test_hat, Y7_test)"
   ]
  },
  {
   "cell_type": "code",
   "execution_count": 35,
   "metadata": {},
   "outputs": [],
   "source": [
    "## TODO learning rate decay"
   ]
  }
 ],
 "metadata": {
  "hide_input": false,
  "kernelspec": {
   "display_name": "Python 3 (ipykernel)",
   "language": "python",
   "name": "python3"
  },
  "language_info": {
   "codemirror_mode": {
    "name": "ipython",
    "version": 3
   },
   "file_extension": ".py",
   "mimetype": "text/x-python",
   "name": "python",
   "nbconvert_exporter": "python",
   "pygments_lexer": "ipython3",
   "version": "3.8.1"
  }
 },
 "nbformat": 4,
 "nbformat_minor": 4
}
