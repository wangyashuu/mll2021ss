{
 "cells": [
  {
   "cell_type": "code",
   "execution_count": 5,
   "metadata": {},
   "outputs": [],
   "source": [
    "import numpy as np\n",
    "import pandas as pd"
   ]
  },
  {
   "cell_type": "code",
   "execution_count": 4,
   "metadata": {},
   "outputs": [],
   "source": [
    "import os\n",
    "import sys\n",
    "nb_dir = os.path.split(os.getcwd())[0]\n",
    "if nb_dir not in sys.path:\n",
    "    sys.path.append(nb_dir)\n",
    "\n",
    "data_path = 'report_data'"
   ]
  },
  {
   "cell_type": "markdown",
   "metadata": {},
   "source": [
    "# 00. Evaluation"
   ]
  },
  {
   "cell_type": "markdown",
   "metadata": {},
   "source": [
    "## Classification"
   ]
  },
  {
   "cell_type": "markdown",
   "metadata": {},
   "source": [
    "### Confusion Matrix ([wiki](https://en.wikipedia.org/wiki/Confusion_matrix))"
   ]
  },
  {
   "cell_type": "markdown",
   "metadata": {},
   "source": [
    "- True Positive: You predicted positive and it’s true.\n",
    "- True Negative: You predicted negative and it’s true.\n",
    "- False Positive: You predicted positive and it’s false.\n",
    "- False Negative: You predicted negative and it’s false."
   ]
  },
  {
   "cell_type": "markdown",
   "metadata": {},
   "source": [
    "## Regression"
   ]
  },
  {
   "cell_type": "markdown",
   "metadata": {},
   "source": [
    "## Data Sampling"
   ]
  },
  {
   "cell_type": "markdown",
   "metadata": {},
   "source": [
    "# 01. Naive Bayes"
   ]
  },
  {
   "cell_type": "markdown",
   "metadata": {},
   "source": [
    "## Basic"
   ]
  },
  {
   "cell_type": "markdown",
   "metadata": {},
   "source": [
    "$$ P(C | w) = \\frac {P(w | C) \\cdot P(C)} {P(w)} $$"
   ]
  },
  {
   "cell_type": "markdown",
   "metadata": {},
   "source": [
    "## Prepare Data"
   ]
  },
  {
   "cell_type": "code",
   "execution_count": 3,
   "metadata": {},
   "outputs": [
    {
     "name": "stdout",
     "output_type": "stream",
     "text": [
      "mkdir: report_data: File exists\n",
      "mkdir: report_data/newsgroups: File exists\n",
      "** Resuming transfer from byte position 14464277\n",
      "  % Total    % Received % Xferd  Average Speed   Time    Time     Time  Current\n",
      "                                 Dload  Upload   Total   Spent    Left  Speed\n",
      "100   389    0   389    0     0   1360      0 --:--:-- --:--:-- --:--:--  1360\n"
     ]
    }
   ],
   "source": [
    "\n",
    "# shell scripts for downloading the data and placing it in a corresponding directory\n",
    "!mkdir report_data & mkdir report_data/newsgroups\n",
    "!curl -o report_data/newsgroups/news.tar.gz \"http://qwone.com/~jason/20Newsgroups/20news-bydate.tar.gz\" -C -\n",
    "# extract the files\n",
    "!gzip -d < report_data/newsgroups/news.tar.gz | tar xf - --directory report_data/newsgroups\n",
    "# !ls ./newsgroups/*"
   ]
  },
  {
   "cell_type": "code",
   "execution_count": 4,
   "metadata": {},
   "outputs": [],
   "source": [
    "import os\n",
    "\n",
    "# Reference the paths to our dataset\n",
    "base_path_newsgroups = \"report_data/newsgroups/\"\n",
    "path_newsgroups_train = os.path.join(base_path_newsgroups, \"20news-bydate-train\")\n",
    "path_newsgroups_test = os.path.join(base_path_newsgroups, \"20news-bydate-test\")"
   ]
  },
  {
   "cell_type": "code",
   "execution_count": 5,
   "metadata": {},
   "outputs": [],
   "source": [
    "from mll2021ss.helpers.file import read_file, read_files\n",
    "from mll2021ss.helpers.vectorizer import vectorize_by_grouping, vectorize_texts, vectorize_text_by_vocabulary, vectorize_texts_by_vocabulary\n",
    "from mll2021ss.helpers.text import tokenize\n",
    "from mll2021ss.helpers.features import extract_raw_features_and_targets"
   ]
  },
  {
   "cell_type": "code",
   "execution_count": 6,
   "metadata": {},
   "outputs": [],
   "source": [
    "data_train = read_files(path_newsgroups_train)\n",
    "data_test = read_files(path_newsgroups_test)\n",
    "\n",
    "raw_features, raw_targets = extract_raw_features_and_targets(data_train)\n",
    "raw_features_test, raw_targets_test = extract_raw_features_and_targets(data_test)"
   ]
  },
  {
   "cell_type": "code",
   "execution_count": 7,
   "metadata": {},
   "outputs": [],
   "source": [
    "X1, vocabulary = vectorize_texts(raw_features)\n",
    "Y1, classes_map = vectorize_by_grouping(np.array(raw_targets).reshape((-1, 1)))\n",
    "\n",
    "X1_test = vectorize_texts_by_vocabulary(raw_features_test, vocabulary)\n",
    "Y1_test, _ = vectorize_by_grouping(np.array(raw_targets_test).reshape((-1, 1)))"
   ]
  },
  {
   "cell_type": "markdown",
   "metadata": {},
   "source": [
    "## Eval Modal"
   ]
  },
  {
   "cell_type": "code",
   "execution_count": 8,
   "metadata": {},
   "outputs": [],
   "source": [
    "from mll2021ss.learning_algorithms.naive_bayes import naive_bayes_train, naive_bayes_predict\n",
    "from mll2021ss.measurement.classification import accuracy"
   ]
  },
  {
   "cell_type": "code",
   "execution_count": 9,
   "metadata": {},
   "outputs": [],
   "source": [
    "classes, prior_probability, likelihood = naive_bayes_train(X1, Y1)\n",
    "Y1_hat_test, index = naive_bayes_predict(X1_test, classes, prior_probability, likelihood)"
   ]
  },
  {
   "cell_type": "code",
   "execution_count": 10,
   "metadata": {},
   "outputs": [
    {
     "data": {
      "text/plain": [
       "array([0.72198619])"
      ]
     },
     "execution_count": 10,
     "metadata": {},
     "output_type": "execute_result"
    }
   ],
   "source": [
    "accuracy(Y1_test, Y1_hat_test)"
   ]
  },
  {
   "cell_type": "markdown",
   "metadata": {},
   "source": [
    "# 02. Linear Regression"
   ]
  },
  {
   "cell_type": "markdown",
   "metadata": {},
   "source": [
    "## Basic"
   ]
  },
  {
   "cell_type": "markdown",
   "metadata": {},
   "source": [
    "### normal equation"
   ]
  },
  {
   "cell_type": "markdown",
   "metadata": {},
   "source": [
    "$$Xw = y$$\n",
    "$$X^T X w = X^T Y$$\n",
    "$$ w = (X.T @ X)^-1 @ X.T @ Y $$\n"
   ]
  },
  {
   "cell_type": "markdown",
   "metadata": {},
   "source": [
    "### optimization target"
   ]
  },
  {
   "cell_type": "markdown",
   "metadata": {},
   "source": [
    "$$J(\\theta) = \\frac 1 {2m} ((w^Tx + b) - y)^2$$\n",
    "$$\\frac {\\partial J(\\theta)} {w} = \\frac 1 m ((w^Tx + b) - y) \\cdot x, \\textrm{    }\\frac {\\partial J(\\theta)} {b} = \\frac 1 m ((w^Tx + b) - y) $$"
   ]
  },
  {
   "cell_type": "markdown",
   "metadata": {},
   "source": [
    "## Prepare Data"
   ]
  },
  {
   "cell_type": "code",
   "execution_count": 11,
   "metadata": {},
   "outputs": [],
   "source": [
    "import pandas as pd\n",
    "data = pd.read_csv(\"report_data/mllab-03-auto-mpg.csv\")\n",
    "X2 = data[['cylinders', 'displacement', 'horsepower', 'weight', 'acceleration', 'year']].values\n",
    "Y2 = data[['mpg']].values"
   ]
  },
  {
   "cell_type": "markdown",
   "metadata": {},
   "source": [
    "## Eval model"
   ]
  },
  {
   "cell_type": "code",
   "execution_count": 12,
   "metadata": {},
   "outputs": [],
   "source": [
    "from mll2021ss.learning_algorithms.normal_equation import normal_equation_train\n",
    "from mll2021ss.learning_algorithms.linear_regression import linear_regression_cost, \\\n",
    "                                                            linear_regression_train, linear_regression_predict\n",
    "\n",
    "from mll2021ss.measurement.regression import r2_score"
   ]
  },
  {
   "cell_type": "code",
   "execution_count": 13,
   "metadata": {},
   "outputs": [
    {
     "data": {
      "text/plain": [
       "0.8092552890383932"
      ]
     },
     "execution_count": 13,
     "metadata": {},
     "output_type": "execute_result"
    }
   ],
   "source": [
    "w21 = normal_equation_train(np.insert(X2, 0, 1, axis=1), Y2)\n",
    "Y2_hat = linear_regression_predict(np.insert(X2, 0, 1, axis=1), w21)\n",
    "\n",
    "r2_score(Y2, Y2_hat)"
   ]
  },
  {
   "cell_type": "code",
   "execution_count": 14,
   "metadata": {},
   "outputs": [],
   "source": [
    "from mll2021ss.helpers.features import mean_normalizer, z_score_normalizer\n",
    "\n",
    "normalize = z_score_normalizer(X2)\n",
    "X2_normalized = normalize(X2)"
   ]
  },
  {
   "cell_type": "code",
   "execution_count": 15,
   "metadata": {},
   "outputs": [
    {
     "data": {
      "text/plain": [
       "0.8092526651235419"
      ]
     },
     "execution_count": 15,
     "metadata": {},
     "output_type": "execute_result"
    }
   ],
   "source": [
    "w22 = linear_regression_train(np.insert(X2_normalized, 0, 1, axis=1), Y2)\n",
    "Y2_hat2 = linear_regression_predict(np.insert(X2_normalized, 0, 1, axis=1), w22)\n",
    "\n",
    "r2_score(Y2, Y2_hat2)"
   ]
  },
  {
   "cell_type": "code",
   "execution_count": 16,
   "metadata": {},
   "outputs": [
    {
     "data": {
      "text/plain": [
       "0.8084660971477562"
      ]
     },
     "execution_count": 16,
     "metadata": {},
     "output_type": "execute_result"
    }
   ],
   "source": [
    "w23 = linear_regression_train(np.insert(X2_normalized, 0, 1, axis=1), Y2, learning_rate=0.03, iteration_count=3000, batch_size=30)\n",
    "\n",
    "Y2_hat3 = linear_regression_predict(np.insert(X2_normalized, 0, 1, axis=1), w23)\n",
    "r2_score(Y2, Y2_hat3)"
   ]
  },
  {
   "cell_type": "markdown",
   "metadata": {},
   "source": [
    "# 03. Logistic Regression"
   ]
  },
  {
   "cell_type": "markdown",
   "metadata": {},
   "source": [
    "## Basic"
   ]
  },
  {
   "cell_type": "markdown",
   "metadata": {},
   "source": [
    "assumes the logarithm of the odds to be a linear combination of the inputs.\n",
    "$$ log( \\frac {p} {1-p} ) = \\mathbf w^T \\mathbf x  $$\n",
    "\n",
    "we can get our Hypothesis Representation (as $p$ - the probability  that our output is 1)\n",
    "$$ h_\\theta(\\mathbf x) = \\frac 1 {1+ e^{-\\mathbf w^T \\mathbf x}} $$\n"
   ]
  },
  {
   "cell_type": "markdown",
   "metadata": {},
   "source": [
    "### optimization target"
   ]
  },
  {
   "cell_type": "markdown",
   "metadata": {},
   "source": [
    "$$ Loss(\\hat y, y) = -y \\cdot \\log(\\hat y) - (1-y) \\cdot \\log(1-\\hat y) $$"
   ]
  },
  {
   "cell_type": "markdown",
   "metadata": {},
   "source": [
    "## Prepare Data"
   ]
  },
  {
   "cell_type": "code",
   "execution_count": 17,
   "metadata": {},
   "outputs": [],
   "source": [
    "import numpy as np\n",
    "\n",
    "n_samples = 200\n",
    "\n",
    "# generate class p\n",
    "mean_p = [5, 9]\n",
    "cov_p = [[2.5, 0.8], [0.8, 0.5]]\n",
    "X_p = np.random.multivariate_normal(mean_p, cov_p, n_samples)\n",
    "\n",
    "# generate class n\n",
    "mean_n1, mean_n2 = [11, 3], [5, 2]\n",
    "cov_n = [[3, -1.3], [-1.3, 1.2]]\n",
    "X_n = np.vstack([\n",
    "    np.random.multivariate_normal(mean_n1, cov_n, int(n_samples/2)),\n",
    "    np.random.multivariate_normal(mean_n2, cov_n, int(n_samples/2))])\n",
    "\n",
    "# combine targets\n",
    "data_XY = np.vstack([\n",
    "    np.hstack([X_p, np.ones((X_p.shape[0], 1))]),\n",
    "    np.hstack([X_n, np.zeros((X_n.shape[0], 1))])\n",
    "])\n",
    "np.random.shuffle(data_XY)\n",
    "\n",
    "data_test, data_train = data_XY[:80], data_XY[80:]\n",
    "\n",
    "X3_train, Y3_train = data_train[:,:-1], data_train[:,-1:]\n",
    "X3_test, Y3_test = data_test[:,:-1], data_test[:,-1:]"
   ]
  },
  {
   "cell_type": "code",
   "execution_count": 18,
   "metadata": {},
   "outputs": [
    {
     "data": {
      "text/plain": [
       "(-4.0, 15.0)"
      ]
     },
     "execution_count": 18,
     "metadata": {},
     "output_type": "execute_result"
    },
    {
     "data": {
      "image/png": "[encoded data removed]",
      "text/plain": [
       "<Figure size 432x288 with 1 Axes>"
      ]
     },
     "metadata": {
      "needs_background": "light"
     },
     "output_type": "display_data"
    }
   ],
   "source": [
    "import matplotlib.pyplot as plt\n",
    "%matplotlib inline\n",
    "\n",
    "fig = plt.figure()\n",
    "ax = fig.add_subplot(111)\n",
    "\n",
    "ax.scatter(X_p.T[0], X_p.T[1], color=\"orange\")\n",
    "ax.scatter(X_n.T[0], X_n.T[1], color=\"green\")\n",
    "ax.set_ylim(-4, 15)\n",
    "ax.set_xlim(-4, 15)"
   ]
  },
  {
   "cell_type": "markdown",
   "metadata": {},
   "source": [
    "### Eval Model"
   ]
  },
  {
   "cell_type": "code",
   "execution_count": 24,
   "metadata": {},
   "outputs": [],
   "source": [
    "from mll2021ss.learning_algorithms.logistic_regression import \\\n",
    "    logistic_regression_loss, logistic_regression_train, logistic_regression_eval, logistic_regression_predict\n",
    "from mll2021ss.measurement.classification import accuracy "
   ]
  },
  {
   "cell_type": "code",
   "execution_count": 28,
   "metadata": {},
   "outputs": [
    {
     "data": {
      "text/plain": [
       "array([0.05741557])"
      ]
     },
     "execution_count": 28,
     "metadata": {},
     "output_type": "execute_result"
    }
   ],
   "source": [
    "w3 = logistic_regression_train(np.insert(X3_train, 0, 1, axis=1), Y3_train)\n",
    "Y3_train_hat = logistic_regression_eval(np.insert(X3_train, 0, 1, axis=1), w3)\n",
    "logistic_regression_loss(Y3_train, Y3_train_hat)"
   ]
  },
  {
   "cell_type": "code",
   "execution_count": 35,
   "metadata": {},
   "outputs": [
    {
     "data": {
      "text/plain": [
       "array([1.])"
      ]
     },
     "execution_count": 35,
     "metadata": {},
     "output_type": "execute_result"
    }
   ],
   "source": [
    "Y3_test_hat = logistic_regression_predict(np.insert(X3_test, 0, 1, axis=1), w3)\n",
    "accuracy(Y3_test, Y3_test_hat)"
   ]
  },
  {
   "cell_type": "markdown",
   "metadata": {},
   "source": [
    "# 04. k-means"
   ]
  },
  {
   "cell_type": "markdown",
   "metadata": {},
   "source": [
    "## Prepare Data"
   ]
  },
  {
   "cell_type": "code",
   "execution_count": 36,
   "metadata": {},
   "outputs": [],
   "source": [
    "n_pre_cluster = 100\n",
    "cluster = [\n",
    "    ([5, 9], [[2.5, 0.8], [0.8, 0.5]]),\n",
    "    ([11, 3], [[3, -1.3], [-1.3, 1.2]]),\n",
    "    ([5, 2], [[3, -1.3], [-1.3, 1.2]])\n",
    "]\n",
    "X4 = np.vstack([np.random.multivariate_normal(mean, cov, n_pre_cluster) for mean, cov in cluster])"
   ]
  },
  {
   "cell_type": "markdown",
   "metadata": {},
   "source": [
    "## Eval Model"
   ]
  },
  {
   "cell_type": "code",
   "execution_count": 37,
   "metadata": {},
   "outputs": [],
   "source": [
    "from mll2021ss.learning_algorithms.k_means import k_means_loss, k_means_train, k_means_predict"
   ]
  },
  {
   "cell_type": "code",
   "execution_count": 38,
   "metadata": {},
   "outputs": [
    {
     "data": {
      "text/plain": [
       "(77.00735387985182,\n",
       " array([[11.11501689,  2.8308873 ],\n",
       "        [ 4.71936456,  2.13420692],\n",
       "        [ 4.79464685,  8.9290104 ]]))"
      ]
     },
     "execution_count": 38,
     "metadata": {},
     "output_type": "execute_result"
    }
   ],
   "source": [
    "# X_train from 03\n",
    "centroids = k_means_train(X4, 3, iteration_count=1000)\n",
    "Y4_hat = k_means_predict(X4, centroids)\n",
    "k_means_loss(X4, Y4_hat), centroids"
   ]
  },
  {
   "cell_type": "code",
   "execution_count": 39,
   "metadata": {},
   "outputs": [
    {
     "data": {
      "text/plain": [
       "<matplotlib.collections.PathCollection at 0x120ea8460>"
      ]
     },
     "execution_count": 39,
     "metadata": {},
     "output_type": "execute_result"
    },
    {
     "data": {
      "image/png": "[encoded data removed]",
      "text/plain": [
       "<Figure size 432x288 with 1 Axes>"
      ]
     },
     "metadata": {
      "needs_background": "light"
     },
     "output_type": "display_data"
    }
   ],
   "source": [
    "import matplotlib.pyplot as plt\n",
    "%matplotlib inline\n",
    "\n",
    "plt.scatter(X4[:, 0], X4[:, 1], marker='o')\n",
    "plt.grid()\n",
    "plt.scatter(centroids[:, 0], centroids[:, 1], marker='x', color=\"red\")"
   ]
  },
  {
   "cell_type": "code",
   "execution_count": 31,
   "metadata": {},
   "outputs": [],
   "source": [
    "## TODO k means performance"
   ]
  },
  {
   "cell_type": "markdown",
   "metadata": {},
   "source": [
    "# 05. Decision Trees"
   ]
  },
  {
   "cell_type": "markdown",
   "metadata": {},
   "source": [
    "## Prepare Data"
   ]
  },
  {
   "cell_type": "code",
   "execution_count": 2,
   "metadata": {},
   "outputs": [
    {
     "name": "stdout",
     "output_type": "stream",
     "text": [
      "mkdir: report_data/CAR: File exists\n",
      "  % Total    % Received % Xferd  Average Speed   Time    Time     Time  Current\n",
      "                                 Dload  Upload   Total   Spent    Left  Speed\n",
      "100 51867  100 51867    0     0  77068      0 --:--:-- --:--:-- --:--:-- 77068\n",
      "  % Total    % Received % Xferd  Average Speed   Time    Time     Time  Current\n",
      "                                 Dload  Upload   Total   Spent    Left  Speed\n",
      "100  3097  100  3097    0     0   9055      0 --:--:-- --:--:-- --:--:--  9029\n"
     ]
    }
   ],
   "source": [
    "#shell scripts for downloading the data and placing it in a corresponding directory\n",
    "!mkdir report_data/CAR \n",
    "!curl -o report_data/CAR/data \"http://archive.ics.uci.edu/ml/machine-learning-databases/car/car.data\"\n",
    "!curl -o report_data/CAR/description \"http://archive.ics.uci.edu/ml/machine-learning-databases/car/car.names\"\n",
    "#download the description and display it here.\n",
    "# !cat CAR/description"
   ]
  },
  {
   "cell_type": "code",
   "execution_count": 6,
   "metadata": {},
   "outputs": [
    {
     "data": {
      "text/html": [
       "<div>\n",
       "<style scoped>\n",
       "    .dataframe tbody tr th:only-of-type {\n",
       "        vertical-align: middle;\n",
       "    }\n",
       "\n",
       "    .dataframe tbody tr th {\n",
       "        vertical-align: top;\n",
       "    }\n",
       "\n",
       "    .dataframe thead th {\n",
       "        text-align: right;\n",
       "    }\n",
       "</style>\n",
       "<table border=\"1\" class=\"dataframe\">\n",
       "  <thead>\n",
       "    <tr style=\"text-align: right;\">\n",
       "      <th></th>\n",
       "      <th>price_buy</th>\n",
       "      <th>price_main</th>\n",
       "      <th>n_doors</th>\n",
       "      <th>n_persons</th>\n",
       "      <th>lug_boot</th>\n",
       "      <th>safety</th>\n",
       "      <th>recommendation</th>\n",
       "    </tr>\n",
       "  </thead>\n",
       "  <tbody>\n",
       "    <tr>\n",
       "      <th>0</th>\n",
       "      <td>vhigh</td>\n",
       "      <td>vhigh</td>\n",
       "      <td>2</td>\n",
       "      <td>2</td>\n",
       "      <td>small</td>\n",
       "      <td>low</td>\n",
       "      <td>unacc</td>\n",
       "    </tr>\n",
       "    <tr>\n",
       "      <th>1</th>\n",
       "      <td>vhigh</td>\n",
       "      <td>vhigh</td>\n",
       "      <td>2</td>\n",
       "      <td>2</td>\n",
       "      <td>small</td>\n",
       "      <td>med</td>\n",
       "      <td>unacc</td>\n",
       "    </tr>\n",
       "    <tr>\n",
       "      <th>2</th>\n",
       "      <td>vhigh</td>\n",
       "      <td>vhigh</td>\n",
       "      <td>2</td>\n",
       "      <td>2</td>\n",
       "      <td>small</td>\n",
       "      <td>high</td>\n",
       "      <td>unacc</td>\n",
       "    </tr>\n",
       "    <tr>\n",
       "      <th>3</th>\n",
       "      <td>vhigh</td>\n",
       "      <td>vhigh</td>\n",
       "      <td>2</td>\n",
       "      <td>2</td>\n",
       "      <td>med</td>\n",
       "      <td>low</td>\n",
       "      <td>unacc</td>\n",
       "    </tr>\n",
       "    <tr>\n",
       "      <th>4</th>\n",
       "      <td>vhigh</td>\n",
       "      <td>vhigh</td>\n",
       "      <td>2</td>\n",
       "      <td>2</td>\n",
       "      <td>med</td>\n",
       "      <td>med</td>\n",
       "      <td>unacc</td>\n",
       "    </tr>\n",
       "  </tbody>\n",
       "</table>\n",
       "</div>"
      ],
      "text/plain": [
       "  price_buy price_main n_doors n_persons lug_boot safety recommendation\n",
       "0     vhigh      vhigh       2         2    small    low          unacc\n",
       "1     vhigh      vhigh       2         2    small    med          unacc\n",
       "2     vhigh      vhigh       2         2    small   high          unacc\n",
       "3     vhigh      vhigh       2         2      med    low          unacc\n",
       "4     vhigh      vhigh       2         2      med    med          unacc"
      ]
     },
     "execution_count": 6,
     "metadata": {},
     "output_type": "execute_result"
    }
   ],
   "source": [
    "# csv-file has no header, so we define it manually\n",
    "col_names = ['price_buy', 'price_main', 'n_doors', 'n_persons', 'lug_boot', 'safety', 'recommendation']\n",
    "df = pd.read_csv(\"report_data/CAR/data\", header=None, names=col_names)\n",
    "X5, Y5 = df.values[:, :6], df.values[:, 6]\n",
    "df.head()"
   ]
  },
  {
   "cell_type": "markdown",
   "metadata": {},
   "source": [
    "## Eval Model"
   ]
  },
  {
   "cell_type": "code",
   "execution_count": 8,
   "metadata": {},
   "outputs": [
    {
     "data": {
      "text/plain": [
       "0.9348837209302326"
      ]
     },
     "execution_count": 8,
     "metadata": {},
     "output_type": "execute_result"
    }
   ],
   "source": [
    "from mll2021ss.learning_algorithms.decision_tree import ID3_train, ID3_predict, gini\n",
    "from mll2021ss.measurement.data_sampling import get_k_folds\n",
    "from mll2021ss.measurement.classification import accuracy\n",
    "\n",
    "np.random.seed(0)\n",
    "k = 10\n",
    "folds = get_k_folds(X5.shape[0], k)\n",
    "accs = []\n",
    "for train_indices, test_indices in folds:\n",
    "    X_train, Y_train = X5[train_indices], Y5[train_indices]\n",
    "    X_test, Y_test = X5[test_indices], Y5[test_indices]\n",
    "    \n",
    "    t = ID3_train(X_train, Y_train, impurity_function=gini)\n",
    "    Y_test_hat = ID3_predict(X_test, t)\n",
    "    \n",
    "    accs.append(accuracy(Y_test, Y_test_hat))\n",
    "    \n",
    "np.sum(accs) / len(accs)"
   ]
  },
  {
   "cell_type": "markdown",
   "metadata": {},
   "source": [
    "# 06. Neural Network"
   ]
  },
  {
   "cell_type": "markdown",
   "metadata": {},
   "source": [
    "## Basic of Neural Network"
   ]
  },
  {
   "cell_type": "markdown",
   "metadata": {},
   "source": [
    "### Forward Propagation"
   ]
  },
  {
   "cell_type": "markdown",
   "metadata": {},
   "source": [
    "$$ Z^{[1]} = W^{[1]} X + b^{[1]}$$\n",
    "$$ A^{[1]} = g (Z^{[1]})$$\n",
    "\n",
    "$$ Z^{[l]} = W^{[l]} A^{[l-1]} + b^{[l]}$$\n",
    "$$ A^{[l]} = g (Z^{[l]})$$"
   ]
  },
  {
   "cell_type": "markdown",
   "metadata": {},
   "source": [
    "### Backward Propagation"
   ]
  },
  {
   "cell_type": "markdown",
   "metadata": {},
   "source": [
    "\n",
    "$$ \\partial \\frac {J(\\theta)} {\\partial \\mathbf A^{[L]}} = \n",
    "- \\frac {Y} {A^{[L]}}  + \\frac {1 - Y} {1 - A^{[L]}} $$\n",
    "\n",
    "$$\\vdots $$\n",
    "\n",
    "---\n",
    "\n",
    "$$ \\partial \\frac {J(\\theta)} {\\partial \\mathbf A^{[l]}} = \n",
    " \\mathbf W^{[l]}(\\partial \\frac {J(\\theta)} {\\partial \\mathbf Z^{[l+1]}}) $$\n",
    "\n",
    "$$ \\partial \\frac {J(\\theta)} {\\partial \\mathbf Z^{[l]}} = \\partial \\frac {J(\\theta)} {\\partial \\mathbf A^{[l]} } \\ast g'^{[l]}(\\mathbf Z^{[l]}) $$\n",
    "\n",
    "$$ \\partial \\frac {J(\\theta)} {\\partial \\mathbf W^{[l]}} = \\frac 1 m \\mathbf A^{[l-1]}(\\partial \\frac {J(\\theta)} {\\partial \\mathbf Z^{[l]}})^T $$\n",
    "\n",
    "---\n",
    "\n",
    "$$\\vdots $$\n",
    "\n",
    "$$ \\partial \\frac {J(\\theta)} {\\partial \\mathbf W^{[1]}} = \\frac 1 m \\mathbf X (\\partial \\frac {J(\\theta)} {\\partial \\mathbf Z^{[1]}})^T $$\n",
    "\n"
   ]
  },
  {
   "cell_type": "markdown",
   "metadata": {},
   "source": [
    "## Prepare Data"
   ]
  },
  {
   "cell_type": "code",
   "execution_count": 7,
   "metadata": {},
   "outputs": [],
   "source": [
    "import sklearn.datasets\n",
    "\n",
    "np.random.seed(0)\n",
    "X6, Y6 = sklearn.datasets.make_moons(200, noise=0.20)\n",
    "classes6 = np.unique(Y6).reshape(1, -1)\n",
    "Y6 = (classes6 == Y6.reshape(-1, 1)) * 1\n",
    "X6_train, Y6_train = X6[:180], Y6[:180]\n",
    "X6_test, Y6_test = X6[180:], Y6[180:]"
   ]
  },
  {
   "cell_type": "markdown",
   "metadata": {},
   "source": [
    "## Eval Model"
   ]
  },
  {
   "cell_type": "code",
   "execution_count": 11,
   "metadata": {},
   "outputs": [],
   "source": [
    "from mll2021ss.learning_algorithms.neural_network import neural_network_train, neural_network_predict, \\\n",
    "    tanh_gradient, softmax, softmax_gradient\n",
    "from mll2021ss.measurement.classification import accuracy"
   ]
  },
  {
   "cell_type": "code",
   "execution_count": 12,
   "metadata": {},
   "outputs": [
    {
     "data": {
      "text/plain": [
       "array([1., 1.])"
      ]
     },
     "execution_count": 12,
     "metadata": {},
     "output_type": "execute_result"
    }
   ],
   "source": [
    "layers = [(4, np.tanh, tanh_gradient), (2, softmax, softmax_gradient)]\n",
    "np.random.seed(0)\n",
    "\n",
    "Ws6, bs6 = neural_network_train(X6_train, Y6_train, layers, learning_rate=0.01, iteration_count=3000)\n",
    "Y6_hat = neural_network_predict(X6_test, Ws6, bs6, layers)\n",
    "accuracy(Y6_test, Y6_hat)"
   ]
  },
  {
   "cell_type": "markdown",
   "metadata": {},
   "source": [
    "# 07. SVM"
   ]
  },
  {
   "cell_type": "code",
   "execution_count": 13,
   "metadata": {},
   "outputs": [],
   "source": [
    "url = \"https://archive.ics.uci.edu/ml/machine-learning-databases/00229/Skin_NonSkin.txt\" \n",
    "data = pd.read_csv(url, header = None, sep='\\t').to_numpy()\n",
    "\n",
    "np.random.seed(1)\n",
    "\n",
    "msk = np.random.rand(len(data)) < 0.8\n",
    "X7 = np.insert(data[:, :3], 0, 1, axis=1)\n",
    "Y7 = np.unique(data[:, -1:], return_inverse=True)[1].reshape(-1, 1) # transfer y to 0, 1\n",
    "\n",
    "X7_train, Y7_train = X7[msk], Y7[msk]\n",
    "X7_test, Y7_test = X7[~msk], Y7[~msk]"
   ]
  },
  {
   "cell_type": "code",
   "execution_count": 14,
   "metadata": {},
   "outputs": [
    {
     "data": {
      "text/plain": [
       "array([0.93418901])"
      ]
     },
     "execution_count": 14,
     "metadata": {},
     "output_type": "execute_result"
    }
   ],
   "source": [
    "# m = 100000 # 245057\n",
    "from mll2021ss.learning_algorithms. support_vector_machine import \\\n",
    "    support_vector_machine_train, support_vector_machine_predict\n",
    "\n",
    "w7 = support_vector_machine_train(X7_train, Y7_train, big_c=1, learning_rate=0.01, iteration_count=100, batch_size=200)\n",
    "Y7_test_hat = support_vector_machine_predict(X7_test, w7)\n",
    "accuracy(Y7_test_hat, Y7_test)"
   ]
  },
  {
   "cell_type": "code",
   "execution_count": 951,
   "metadata": {},
   "outputs": [],
   "source": [
    "## TODO learning rate decay"
   ]
  }
 ],
 "metadata": {
  "hide_input": false,
  "kernelspec": {
   "display_name": "Python 3 (ipykernel)",
   "language": "python",
   "name": "python3"
  },
  "language_info": {
   "codemirror_mode": {
    "name": "ipython",
    "version": 3
   },
   "file_extension": ".py",
   "mimetype": "text/x-python",
   "name": "python",
   "nbconvert_exporter": "python",
   "pygments_lexer": "ipython3",
   "version": "3.8.1"
  }
 },
 "nbformat": 4,
 "nbformat_minor": 4
}
