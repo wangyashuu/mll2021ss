{
 "cells": [
  {
   "cell_type": "code",
   "execution_count": 39,
   "metadata": {},
   "outputs": [],
   "source": [
    "import numpy as np"
   ]
  },
  {
   "cell_type": "code",
   "execution_count": 2,
   "metadata": {},
   "outputs": [],
   "source": [
    "import os\n",
    "import sys\n",
    "nb_dir = os.path.split(os.getcwd())[0]\n",
    "if nb_dir not in sys.path:\n",
    "    sys.path.append(nb_dir)"
   ]
  },
  {
   "cell_type": "markdown",
   "metadata": {},
   "source": [
    "# 01. Naive Bayes"
   ]
  },
  {
   "cell_type": "code",
   "execution_count": 41,
   "metadata": {},
   "outputs": [
    {
     "name": "stdout",
     "output_type": "stream",
     "text": [
      "mkdir: .cache/newsgroups: File exists\n",
      "mkdir: .cache: File exists\n",
      "** Resuming transfer from byte position 14464277\n",
      "  % Total    % Received % Xferd  Average Speed   Time    Time     Time  Current\n",
      "                                 Dload  Upload   Total   Spent    Left  Speed\n",
      "100   389    0   389    0     0   1501      0 --:--:-- --:--:-- --:--:--  1501\n"
     ]
    }
   ],
   "source": [
    "# shell scripts for downloading the data and placing it in a corresponding directory\n",
    "!mkdir .cache & mkdir .cache/newsgroups\n",
    "!curl -o .cache/newsgroups/news.tar.gz \"http://qwone.com/~jason/20Newsgroups/20news-bydate.tar.gz\" -C -\n",
    "# extract the files\n",
    "!gzip -d < .cache/newsgroups/news.tar.gz | tar xf - --directory .cache/newsgroups\n",
    "# !ls ./newsgroups/*"
   ]
  },
  {
   "cell_type": "code",
   "execution_count": 42,
   "metadata": {},
   "outputs": [],
   "source": [
    "from mll2021ss.helpers.file import read_file, read_files\n",
    "from mll2021ss.helpers.vectorizer import vectorize_by_grouping, vectorize_texts, vectorize_text_by_vocabulary, vectorize_texts_by_vocabulary\n",
    "from mll2021ss.helpers.text import tokenize\n",
    "from mll2021ss.helpers.features import extract_raw_features_and_targets\n",
    "from mll2021ss.classifiers.naive_bayes import naive_bayes_train, naive_bayes_predict"
   ]
  },
  {
   "cell_type": "code",
   "execution_count": 43,
   "metadata": {},
   "outputs": [],
   "source": [
    "import os\n",
    "\n",
    "# Reference the paths to our dataset\n",
    "base_path_newsgroups = \".cache/newsgroups/\"\n",
    "path_newsgroups_train = os.path.join(base_path_newsgroups, \"20news-bydate-train\")\n",
    "path_newsgroups_test = os.path.join(base_path_newsgroups, \"20news-bydate-test\")"
   ]
  },
  {
   "cell_type": "code",
   "execution_count": 44,
   "metadata": {},
   "outputs": [],
   "source": [
    "data_train = read_files(path_newsgroups_train)\n",
    "data_test = read_files(path_newsgroups_test)\n",
    "\n",
    "raw_features, raw_targets = extract_raw_features_and_targets(data_train)\n",
    "raw_features_test, raw_targets_test = extract_raw_features_and_targets(data_test)"
   ]
  },
  {
   "cell_type": "code",
   "execution_count": 45,
   "metadata": {},
   "outputs": [],
   "source": [
    "X, vocabulary = vectorize_texts(raw_features)\n",
    "Y, classes_map = vectorize_by_grouping(np.array(raw_targets).reshape((-1, 1)))\n",
    "\n",
    "X_test = vectorize_texts_by_vocabulary(raw_features_test, vocabulary)\n",
    "Y_test, _ = vectorize_by_grouping(np.array(raw_targets_test).reshape((-1, 1)))"
   ]
  },
  {
   "cell_type": "code",
   "execution_count": 46,
   "metadata": {},
   "outputs": [],
   "source": [
    "classes, prior_probability, likelihood = naive_bayes_train(X, Y)\n",
    "Y_hat, index = naive_bayes_predict(X_test, classes, prior_probability, likelihood)"
   ]
  },
  {
   "cell_type": "code",
   "execution_count": 47,
   "metadata": {},
   "outputs": [
    {
     "data": {
      "text/plain": [
       "array([5438])"
      ]
     },
     "execution_count": 47,
     "metadata": {},
     "output_type": "execute_result"
    }
   ],
   "source": [
    "np.sum(Y_hat == Y_test, axis=0)"
   ]
  },
  {
   "cell_type": "markdown",
   "metadata": {},
   "source": [
    "# 02. Linear Regression"
   ]
  },
  {
   "cell_type": "code",
   "execution_count": 48,
   "metadata": {},
   "outputs": [],
   "source": [
    "from mll2021ss.classifiers.normal_equation import normal_equation_train\n",
    "from mll2021ss.helpers.features import mean_normalizer, z_score_normalizer\n",
    "from mll2021ss.classifiers.linear_regression import linear_regression_cost, linear_regression_train, linear_regression_predict"
   ]
  },
  {
   "cell_type": "code",
   "execution_count": 49,
   "metadata": {},
   "outputs": [],
   "source": [
    "import pandas as pd\n",
    "data = pd.read_csv(\"../mllab-03-auto-mpg.csv\")\n",
    "X = data[['cylinders', 'displacement', 'horsepower', 'weight', 'acceleration', 'year']].values\n",
    "y = data[['mpg']].values"
   ]
  },
  {
   "cell_type": "code",
   "execution_count": 50,
   "metadata": {},
   "outputs": [
    {
     "data": {
      "text/plain": [
       "array([5.79508549])"
      ]
     },
     "execution_count": 50,
     "metadata": {},
     "output_type": "execute_result"
    }
   ],
   "source": [
    "w1 = normal_equation_train(np.insert(X, 0, 1, axis=1), y)\n",
    "linear_regression_cost(np.insert(X, 0, 1, axis=1), y, w1)"
   ]
  },
  {
   "cell_type": "code",
   "execution_count": 51,
   "metadata": {},
   "outputs": [
    {
     "data": {
      "text/plain": [
       "array([5.79516521])"
      ]
     },
     "execution_count": 51,
     "metadata": {},
     "output_type": "execute_result"
    }
   ],
   "source": [
    "normalize = z_score_normalizer(X)\n",
    "X_normalized = normalize(X)\n",
    "w2 = linear_regression_train(np.insert(X_normalized, 0, 1, axis=1), y)\n",
    "linear_regression_cost(np.insert(X_normalized, 0, 1, axis=1), y, w2)"
   ]
  },
  {
   "cell_type": "code",
   "execution_count": 52,
   "metadata": {},
   "outputs": [
    {
     "data": {
      "text/plain": [
       "array([5.8344333])"
      ]
     },
     "execution_count": 52,
     "metadata": {},
     "output_type": "execute_result"
    }
   ],
   "source": [
    "w3 = linear_regression_train(np.insert(X_normalized, 0, 1, axis=1), y, learning_rate=0.03, iteration_count=3000, batch_size=30)\n",
    "linear_regression_cost(np.insert(X_normalized, 0, 1, axis=1), y, w3)"
   ]
  },
  {
   "cell_type": "markdown",
   "metadata": {},
   "source": [
    "# 03. Logistic Regression"
   ]
  },
  {
   "cell_type": "code",
   "execution_count": 9,
   "metadata": {},
   "outputs": [],
   "source": [
    "import numpy as np\n",
    "\n",
    "n_samples = 200\n",
    "\n",
    "# generate class p\n",
    "mean_p = [5, 9]\n",
    "cov_p = [[2.5, 0.8], [0.8, 0.5]]\n",
    "X_p = np.random.multivariate_normal(mean_p, cov_p, n_samples)\n",
    "\n",
    "mean_n1 = [11, 3]\n",
    "mean_n2 = [5, 2]\n",
    "cov_n = [[3, -1.3], [-1.3, 1.2]]\n",
    "\n",
    "# generate class n\n",
    "X_n_1 = np.random.multivariate_normal(mean_n1, cov_n, int(n_samples/2))\n",
    "X_n_2 = np.random.multivariate_normal(mean_n2, cov_n, int(n_samples/2))\n",
    "X_n = np.vstack([X_n_1, X_n_2])\n",
    "\n",
    "# combine targets\n",
    "XY_p = np.hstack([X_p, np.ones((X_p.shape[0], 1))])\n",
    "XY_n = np.hstack([X_n, np.zeros((X_n.shape[0], 1))])\n",
    "\n",
    "XY = np.vstack([XY_n, XY_p])\n",
    "data_XY = np.copy(XY)\n",
    "np.random.shuffle(data_XY)\n",
    "\n",
    "data_train = data_XY[80:]\n",
    "data_test = data_XY[:80]"
   ]
  },
  {
   "cell_type": "code",
   "execution_count": 10,
   "metadata": {},
   "outputs": [
    {
     "data": {
      "text/plain": [
       "(-4.0, 15.0)"
      ]
     },
     "execution_count": 10,
     "metadata": {},
     "output_type": "execute_result"
    },
    {
     "data": {
      "image/png": "[encoded data removed]",
      "text/plain": [
       "<Figure size 432x288 with 1 Axes>"
      ]
     },
     "metadata": {
      "needs_background": "light"
     },
     "output_type": "display_data"
    }
   ],
   "source": [
    "import matplotlib.pyplot as plt\n",
    "%matplotlib inline\n",
    "\n",
    "fig = plt.figure()\n",
    "ax = fig.add_subplot(111)\n",
    "\n",
    "ax.scatter(X_p.T[0], X_p.T[1], color=\"orange\")\n",
    "ax.scatter(X_n.T[0], X_n.T[1], color=\"green\")\n",
    "ax.set_ylim(-4, 15)\n",
    "ax.set_xlim(-4, 15)"
   ]
  },
  {
   "cell_type": "code",
   "execution_count": 11,
   "metadata": {},
   "outputs": [],
   "source": [
    "from mll2021ss.classifiers.logistic_regression import LogisticRegressionClassifier, logistic_regression_loss, logistic_regression_train, logistic_regression_predict"
   ]
  },
  {
   "cell_type": "code",
   "execution_count": 12,
   "metadata": {},
   "outputs": [],
   "source": [
    "X_train, y_train = data_train[:,:-1], data_train[:,-1:]\n",
    "X_test, y_test = data_test[:,:-1], data_test[:,-1:]"
   ]
  },
  {
   "cell_type": "code",
   "execution_count": 57,
   "metadata": {},
   "outputs": [
    {
     "data": {
      "text/plain": [
       "array([0.04202103])"
      ]
     },
     "execution_count": 57,
     "metadata": {},
     "output_type": "execute_result"
    }
   ],
   "source": [
    "w = logistic_regression_train(np.insert(X_train, 0, 1, axis=1), y_train)\n",
    "logistic_regression_loss(np.insert(X_train, 0, 1, axis=1), y_train, w)"
   ]
  },
  {
   "cell_type": "code",
   "execution_count": 58,
   "metadata": {},
   "outputs": [
    {
     "data": {
      "text/plain": [
       "array([0.])"
      ]
     },
     "execution_count": 58,
     "metadata": {},
     "output_type": "execute_result"
    }
   ],
   "source": [
    "y_hat = logistic_regression_predict(np.insert(X_test, 0, 1, axis=1), w)\n",
    "np.sum(y_hat == y_test, axis=0) / y_test.shape[0]"
   ]
  },
  {
   "cell_type": "markdown",
   "metadata": {},
   "source": [
    "# 04. k-means"
   ]
  },
  {
   "cell_type": "code",
   "execution_count": 7,
   "metadata": {},
   "outputs": [],
   "source": [
    "from mll2021ss.classifiers.k_means import KMeansClassifier, \\\n",
    "    k_means_loss, k_means_train, k_means_predict"
   ]
  },
  {
   "cell_type": "code",
   "execution_count": 33,
   "metadata": {},
   "outputs": [],
   "source": [
    "n_pre_cluster = 100\n",
    "cluster = [\n",
    "    ([5, 9], [[2.5, 0.8], [0.8, 0.5]]),\n",
    "    ([11, 3], [[3, -1.3], [-1.3, 1.2]]),\n",
    "    ([5, 2], [[3, -1.3], [-1.3, 1.2]])\n",
    "]\n",
    "\n",
    "X = np.vstack([np.random.multivariate_normal(mean, cov, n_pre_cluster) for mean, cov in cluster])"
   ]
  },
  {
   "cell_type": "code",
   "execution_count": 38,
   "metadata": {},
   "outputs": [
    {
     "data": {
      "text/plain": [
       "(74.46026487467583,\n",
       " array([[ 5.1978309 ,  1.830516  ],\n",
       "        [ 5.07280928,  9.06339529],\n",
       "        [10.83880851,  2.99418101]]))"
      ]
     },
     "execution_count": 38,
     "metadata": {},
     "output_type": "execute_result"
    }
   ],
   "source": [
    "# X_train from 03\n",
    "centroids = k_means_train(X, 3, iteration_count=1000)\n",
    "Y_hat = k_means_predict(X, centroids)\n",
    "k_means_loss(X, Y_hat), centroids"
   ]
  },
  {
   "cell_type": "code",
   "execution_count": 36,
   "metadata": {},
   "outputs": [
    {
     "data": {
      "text/plain": [
       "<matplotlib.collections.PathCollection at 0x1223dab50>"
      ]
     },
     "execution_count": 36,
     "metadata": {},
     "output_type": "execute_result"
    },
    {
     "data": {
      "image/png": "[encoded data removed]",
      "text/plain": [
       "<Figure size 432x288 with 1 Axes>"
      ]
     },
     "metadata": {
      "needs_background": "light"
     },
     "output_type": "display_data"
    }
   ],
   "source": [
    "import matplotlib.pyplot as plt\n",
    "%matplotlib inline\n",
    "\n",
    "plt.scatter(X[:, 0], X[:, 1], marker='o')\n",
    "plt.grid()\n",
    "plt.scatter(centroids[:, 0], centroids[:, 1], marker='x', color=\"red\")"
   ]
  }
 ],
 "metadata": {
  "hide_input": false,
  "kernelspec": {
   "display_name": "Python 3",
   "language": "python",
   "name": "python3"
  },
  "language_info": {
   "codemirror_mode": {
    "name": "ipython",
    "version": 3
   },
   "file_extension": ".py",
   "mimetype": "text/x-python",
   "name": "python",
   "nbconvert_exporter": "python",
   "pygments_lexer": "ipython3",
   "version": "3.8.1"
  }
 },
 "nbformat": 4,
 "nbformat_minor": 4
}
